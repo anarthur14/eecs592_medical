{
 "cells": [
  {
   "cell_type": "code",
   "execution_count": 1,
   "id": "available-albany",
   "metadata": {},
   "outputs": [],
   "source": [
    "%load_ext autoreload\n",
    "%autoreload 2\n",
    "\n",
    "import os\n",
    "import sys\n",
    "import importlib\n",
    "import ipywidgets as widgets\n",
    "from pathlib import Path\n",
    "\n",
    "module_path='preprocessing'\n",
    "if module_path not in sys.path:\n",
    "    sys.path.append(module_path)\n",
    "\n",
    "module_path='utils'\n",
    "if module_path not in sys.path:\n",
    "    sys.path.append(module_path)\n",
    "\n",
    "root_dir = os.path.dirname(os.path.abspath('mainPipeline.ipynb'))\n",
    "\n",
    "import day_intervals_cohort_v2\n",
    "from day_intervals_cohort_v2 import *\n",
    "\n",
    "import feature_selection_hosp\n",
    "from feature_selection_hosp import *"
   ]
  },
  {
   "cell_type": "markdown",
   "id": "happy-tissue",
   "metadata": {},
   "source": [
    "## 1. DATA EXTRACTION\n",
    "Please run below cell to select option for cohort selection.\n",
    "The cohort will be svaed in **./data/cohort/**"
   ]
  },
  {
   "cell_type": "code",
   "execution_count": 2,
   "id": "structured-dimension",
   "metadata": {
    "tags": [
     "{",
     "\"tags\":",
     "[",
     "\"hide-input\"",
     "]",
     "}"
    ]
   },
   "outputs": [],
   "source": [
    "version = 'Version 2'\n",
    "radio_input4 = 'Phenotype'"
   ]
  },
  {
   "cell_type": "markdown",
   "id": "written-syndicate",
   "metadata": {},
   "source": [
    "### Refining Cohort and Prediction Task Definition\n",
    "\n",
    "Based on your current selection following block will provide option to further refine prediction task and cohort associated with it:\n",
    "\n",
    "- First you will refine the prediction task choosing from following options -\n",
    "    - **Phenotype Prediction** - You can select from four major chronic diseases to predict its future outcome\n",
    "\n",
    "        - Heart failure\n",
    "        - CAD (Coronary Artery Disease)\n",
    "        - CKD (Chronic Kidney Disease)\n",
    "        - COPD (Chronic obstructive pulmonary disease)\n",
    "\n",
    "- Second, you will choode whether to perfom above task using ICU or non-ICU admissions data\n",
    "\n",
    "- Third, you can refine the refine the cohort selection for any of the above choosen prediction tasks by including the admission samples admitted with particular chronic disease - \n",
    "    - Heart failure\n",
    "    - CAD (Coronary Artery Disease)\n",
    "    - CKD (Chronic Kidney Disease)\n",
    "    - COPD (Chronic obstructive pulmonary disease)\n",
    "    \n",
    "print(\"**Please run below cell to extract the cohort for selected options**\")"
   ]
  },
  {
   "cell_type": "code",
   "execution_count": 3,
   "id": "broke-spirituality",
   "metadata": {},
   "outputs": [
    {
     "data": {
      "application/vnd.jupyter.widget-view+json": {
       "model_id": "5340f69884f14665b782d35ce0a32955",
       "version_major": 2,
       "version_minor": 0
      },
      "text/plain": [
       "RadioButtons(options=('Heart Failure in 30 days', 'CAD in 30 days', 'CKD in 30 days', 'COPD in 30 days', 'Diab…"
      ]
     },
     "metadata": {},
     "output_type": "display_data"
    },
    {
     "name": "stdout",
     "output_type": "stream",
     "text": [
      "Extract Data\n",
      "Please select if you want to perform choosen prediction task for a specific disease.\n"
     ]
    },
    {
     "data": {
      "application/vnd.jupyter.widget-view+json": {
       "model_id": "c0df02a44cb24cc59db427678fea3660",
       "version_major": 2,
       "version_minor": 0
      },
      "text/plain": [
       "RadioButtons(options=('No Disease Filter', 'Heart Failure', 'CKD', 'CAD', 'COPD'), value='No Disease Filter')"
      ]
     },
     "metadata": {},
     "output_type": "display_data"
    }
   ],
   "source": [
    "radio_input2 = widgets.RadioButtons(options=['Heart Failure in 30 days','CAD in 30 days','CKD in 30 days','COPD in 30 days','Diabetes in 30 days'],value='Heart Failure in 30 days')\n",
    "display(radio_input2)\n",
    "\n",
    "print(\"Extract Data\")\n",
    "radio_input1 = 'Non-ICU'\n",
    "\n",
    "print(\"Please select if you want to perform choosen prediction task for a specific disease.\")\n",
    "radio_input3 = widgets.RadioButtons(options=['No Disease Filter','Heart Failure','CKD','CAD','COPD'],value='No Disease Filter')\n",
    "display(radio_input3)"
   ]
  },
  {
   "cell_type": "code",
   "execution_count": 4,
   "id": "republican-freight",
   "metadata": {},
   "outputs": [
    {
     "name": "stdout",
     "output_type": "stream",
     "text": [
      "===========MIMIC-IV v2.0============\n",
      "EXTRACTING FOR: | NON-ICU | READMISSION DUE TO E11 | 30 | \n",
      "[ READMISSION DUE TO E11 ]\n"
     ]
    },
    {
     "name": "stderr",
     "output_type": "stream",
     "text": [
      "100%|██████████| 34755/34755 [06:49<00:00, 84.86it/s] \n"
     ]
    },
    {
     "name": "stdout",
     "output_type": "stream",
     "text": [
      "[ READMISSION LABELS FINISHED ]\n",
      "[ COHORT SUCCESSFULLY SAVED ]\n",
      "[ SUMMARY SUCCESSFULLY SAVED ]\n",
      "Readmission FOR Non-ICU DATA\n",
      "# Admission Records: 97965\n",
      "# Patients: 34755\n",
      "# Positive cases: 20262\n",
      "# Negative cases: 77703\n"
     ]
    }
   ],
   "source": [
    "disease_label=\"\"\n",
    "time=0\n",
    "\n",
    "if radio_input2.value=='Heart Failure in 30 days':\n",
    "    label='Readmission'\n",
    "    time=30\n",
    "    disease_label='I50'\n",
    "elif radio_input2.value=='CAD in 30 days':\n",
    "    label='Readmission'\n",
    "    time=30\n",
    "    disease_label='I25'\n",
    "elif radio_input2.value=='CKD in 30 days':\n",
    "    label='Readmission'\n",
    "    time=30\n",
    "    disease_label='N18'\n",
    "elif radio_input2.value=='COPD in 30 days':\n",
    "    label='Readmission'\n",
    "    time=30\n",
    "    disease_label='J44'\n",
    "elif radio_input2.value=='Diabetes in 30 days':\n",
    "    label='Readmission'\n",
    "    time=30\n",
    "    disease_label='E11'\n",
    "    \n",
    "data_icu=False\n",
    "data_mort=label==\"Mortality\"\n",
    "data_admn=label=='Readmission'\n",
    "data_los=label=='Length of Stay'\n",
    "        \n",
    "if (radio_input3.value==\"Heart Failure\"):\n",
    "    icd_code='I50'\n",
    "elif (radio_input3.value==\"CKD\"):\n",
    "    icd_code='N18'\n",
    "elif (radio_input3.value==\"COPD\"):\n",
    "    icd_code='J44'\n",
    "elif (radio_input3.value==\"CAD\"):\n",
    "    icd_code='I25'\n",
    "else:\n",
    "    icd_code='No Disease Filter'\n",
    "\n",
    "version_path=\"mimiciv/2.2\"\n",
    "cohort_output = day_intervals_cohort_v2.extract_data(radio_input1,label,time,icd_code, root_dir,disease_label)"
   ]
  },
  {
   "cell_type": "markdown",
   "id": "interstate-stadium",
   "metadata": {},
   "source": [
    "## 2. FEATURE SELECTION\n",
    "Features available for Non-ICU data -\n",
    "- Diagnosis (https://mimic.mit.edu/docs/iv/modules/hosp/diagnoses_icd/)\n",
    "- Procedures (https://mimic.mit.edu/docs/iv/modules/hosp/procedures_icd/)\n",
    "- Medications (https://mimic.mit.edu/docs/iv/modules/hosp/prescriptions/)\n",
    "- Lab Events (https://mimic.mit.edu/docs/iv/modules/hosp/labevents/)\n",
    "\n",
    "All features will be saved in **./data/features/**\n",
    "\n",
    "**Please run below cell to select features**"
   ]
  },
  {
   "cell_type": "code",
   "execution_count": 5,
   "id": "native-covering",
   "metadata": {
    "scrolled": true
   },
   "outputs": [
    {
     "name": "stdout",
     "output_type": "stream",
     "text": [
      "[EXTRACTING DIAGNOSIS DATA]\n"
     ]
    },
    {
     "name": "stderr",
     "output_type": "stream",
     "text": [
      "100%|██████████| 6258/6258 [00:15<00:00, 399.61it/s]\n"
     ]
    },
    {
     "name": "stdout",
     "output_type": "stream",
     "text": [
      "# unique ICD-9 codes 6258\n",
      "# unique ICD-10 codes 9534\n",
      "# unique ICD-10 codes (After converting ICD-9 to ICD-10) 9838\n",
      "# unique ICD-10 codes (After clinical gruping ICD-10 codes) 1457\n",
      "# Admissions:   97965\n",
      "[SUCCESSFULLY SAVED DIAGNOSIS DATA]\n",
      "[EXTRACTING PROCEDURES DATA]\n",
      "# Unique ICD9 Procedures:   1861\n",
      "# Unique ICD10 Procedures:  5183\n",
      "\n",
      "Value counts of each ICD version:\n",
      " 9     110628\n",
      "10     54166\n",
      "Name: icd_version, dtype: int64\n",
      "# Admissions:   53850\n",
      "Total number of rows:  164794\n",
      "[SUCCESSFULLY SAVED PROCEDURES DATA]\n",
      "[EXTRACTING MEDICATIONS DATA]\n",
      "Number of unique type of drug:  2012\n",
      "Number of unique type of drug (after grouping to use Non propietary names):  970\n",
      "Total number of rows:  2580611\n",
      "# Admissions:   89550\n",
      "[SUCCESSFULLY SAVED MEDICATIONS DATA]\n",
      "[EXTRACTING LABS DATA]\n"
     ]
    },
    {
     "name": "stderr",
     "output_type": "stream",
     "text": [
      "0it [00:00, ?it/s]/sw/pkgs/arc/python3.9-anaconda/2021.11/lib/python3.9/site-packages/pandas/core/indexing.py:1817: SettingWithCopyWarning: \n",
      "A value is trying to be set on a copy of a slice from a DataFrame.\n",
      "Try using .loc[row_indexer,col_indexer] = value instead\n",
      "\n",
      "See the caveats in the documentation: https://pandas.pydata.org/pandas-docs/stable/user_guide/indexing.html#returning-a-view-versus-a-copy\n",
      "  self._setitem_single_column(loc, value, pi)\n",
      "1it [07:16, 436.93s/it]/sw/pkgs/arc/python3.9-anaconda/2021.11/lib/python3.9/site-packages/pandas/core/indexing.py:1817: SettingWithCopyWarning: \n",
      "A value is trying to be set on a copy of a slice from a DataFrame.\n",
      "Try using .loc[row_indexer,col_indexer] = value instead\n",
      "\n",
      "See the caveats in the documentation: https://pandas.pydata.org/pandas-docs/stable/user_guide/indexing.html#returning-a-view-versus-a-copy\n",
      "  self._setitem_single_column(loc, value, pi)\n",
      "2it [15:04, 454.96s/it]/sw/pkgs/arc/python3.9-anaconda/2021.11/lib/python3.9/site-packages/pandas/core/indexing.py:1817: SettingWithCopyWarning: \n",
      "A value is trying to be set on a copy of a slice from a DataFrame.\n",
      "Try using .loc[row_indexer,col_indexer] = value instead\n",
      "\n",
      "See the caveats in the documentation: https://pandas.pydata.org/pandas-docs/stable/user_guide/indexing.html#returning-a-view-versus-a-copy\n",
      "  self._setitem_single_column(loc, value, pi)\n",
      "3it [24:09, 496.13s/it]/sw/pkgs/arc/python3.9-anaconda/2021.11/lib/python3.9/site-packages/pandas/core/indexing.py:1817: SettingWithCopyWarning: \n",
      "A value is trying to be set on a copy of a slice from a DataFrame.\n",
      "Try using .loc[row_indexer,col_indexer] = value instead\n",
      "\n",
      "See the caveats in the documentation: https://pandas.pydata.org/pandas-docs/stable/user_guide/indexing.html#returning-a-view-versus-a-copy\n",
      "  self._setitem_single_column(loc, value, pi)\n",
      "4it [32:29, 497.43s/it]/sw/pkgs/arc/python3.9-anaconda/2021.11/lib/python3.9/site-packages/pandas/core/indexing.py:1817: SettingWithCopyWarning: \n",
      "A value is trying to be set on a copy of a slice from a DataFrame.\n",
      "Try using .loc[row_indexer,col_indexer] = value instead\n",
      "\n",
      "See the caveats in the documentation: https://pandas.pydata.org/pandas-docs/stable/user_guide/indexing.html#returning-a-view-versus-a-copy\n",
      "  self._setitem_single_column(loc, value, pi)\n",
      "5it [40:19, 487.82s/it]/sw/pkgs/arc/python3.9-anaconda/2021.11/lib/python3.9/site-packages/pandas/core/indexing.py:1817: SettingWithCopyWarning: \n",
      "A value is trying to be set on a copy of a slice from a DataFrame.\n",
      "Try using .loc[row_indexer,col_indexer] = value instead\n",
      "\n",
      "See the caveats in the documentation: https://pandas.pydata.org/pandas-docs/stable/user_guide/indexing.html#returning-a-view-versus-a-copy\n",
      "  self._setitem_single_column(loc, value, pi)\n",
      "6it [47:56, 477.27s/it]/sw/pkgs/arc/python3.9-anaconda/2021.11/lib/python3.9/site-packages/pandas/core/indexing.py:1817: SettingWithCopyWarning: \n",
      "A value is trying to be set on a copy of a slice from a DataFrame.\n",
      "Try using .loc[row_indexer,col_indexer] = value instead\n",
      "\n",
      "See the caveats in the documentation: https://pandas.pydata.org/pandas-docs/stable/user_guide/indexing.html#returning-a-view-versus-a-copy\n",
      "  self._setitem_single_column(loc, value, pi)\n",
      "7it [55:48, 475.36s/it]/sw/pkgs/arc/python3.9-anaconda/2021.11/lib/python3.9/site-packages/pandas/core/indexing.py:1817: SettingWithCopyWarning: \n",
      "A value is trying to be set on a copy of a slice from a DataFrame.\n",
      "Try using .loc[row_indexer,col_indexer] = value instead\n",
      "\n",
      "See the caveats in the documentation: https://pandas.pydata.org/pandas-docs/stable/user_guide/indexing.html#returning-a-view-versus-a-copy\n",
      "  self._setitem_single_column(loc, value, pi)\n",
      "8it [1:03:58, 480.26s/it]/sw/pkgs/arc/python3.9-anaconda/2021.11/lib/python3.9/site-packages/pandas/core/indexing.py:1817: SettingWithCopyWarning: \n",
      "A value is trying to be set on a copy of a slice from a DataFrame.\n",
      "Try using .loc[row_indexer,col_indexer] = value instead\n",
      "\n",
      "See the caveats in the documentation: https://pandas.pydata.org/pandas-docs/stable/user_guide/indexing.html#returning-a-view-versus-a-copy\n",
      "  self._setitem_single_column(loc, value, pi)\n",
      "9it [1:11:38, 473.75s/it]/sw/pkgs/arc/python3.9-anaconda/2021.11/lib/python3.9/site-packages/pandas/core/indexing.py:1817: SettingWithCopyWarning: \n",
      "A value is trying to be set on a copy of a slice from a DataFrame.\n",
      "Try using .loc[row_indexer,col_indexer] = value instead\n",
      "\n",
      "See the caveats in the documentation: https://pandas.pydata.org/pandas-docs/stable/user_guide/indexing.html#returning-a-view-versus-a-copy\n",
      "  self._setitem_single_column(loc, value, pi)\n",
      "10it [1:19:17, 469.41s/it]/sw/pkgs/arc/python3.9-anaconda/2021.11/lib/python3.9/site-packages/pandas/core/indexing.py:1817: SettingWithCopyWarning: \n",
      "A value is trying to be set on a copy of a slice from a DataFrame.\n",
      "Try using .loc[row_indexer,col_indexer] = value instead\n",
      "\n",
      "See the caveats in the documentation: https://pandas.pydata.org/pandas-docs/stable/user_guide/indexing.html#returning-a-view-versus-a-copy\n",
      "  self._setitem_single_column(loc, value, pi)\n",
      "11it [1:27:35, 477.91s/it]/sw/pkgs/arc/python3.9-anaconda/2021.11/lib/python3.9/site-packages/pandas/core/indexing.py:1817: SettingWithCopyWarning: \n",
      "A value is trying to be set on a copy of a slice from a DataFrame.\n",
      "Try using .loc[row_indexer,col_indexer] = value instead\n",
      "\n",
      "See the caveats in the documentation: https://pandas.pydata.org/pandas-docs/stable/user_guide/indexing.html#returning-a-view-versus-a-copy\n",
      "  self._setitem_single_column(loc, value, pi)\n",
      "12it [1:33:57, 469.75s/it]\n"
     ]
    },
    {
     "name": "stdout",
     "output_type": "stream",
     "text": [
      "# Itemid:  556\n",
      "# Admissions:  95763\n",
      "Total number of rows:  17567713\n",
      "[SUCCESSFULLY SAVED LABS DATA]\n"
     ]
    }
   ],
   "source": [
    "diag_flag=True\n",
    "lab_flag=True\n",
    "proc_flag=True\n",
    "med_flag=True\n",
    "feature_nonicu(cohort_output, version_path,diag_flag,lab_flag,proc_flag,med_flag)"
   ]
  },
  {
   "cell_type": "markdown",
   "id": "aboriginal-upset",
   "metadata": {},
   "source": [
    "## 3. CLINICAL GROUPING\n",
    "Below you will have option to clinically group diagnosis and medications.\n",
    "Grouping medical codes will reduce dimensional space of features.\n",
    "\n",
    "Default options selected below will group medical codes to reduce feature dimension space.\n",
    "\n",
    "**Please run below cell to select preprocessing for diferent features**"
   ]
  },
  {
   "cell_type": "code",
   "execution_count": 6,
   "id": "partial-manhattan",
   "metadata": {},
   "outputs": [
    {
     "name": "stdout",
     "output_type": "stream",
     "text": [
      "Do you want to group ICD 10 DIAG codes ?\n"
     ]
    },
    {
     "data": {
      "application/vnd.jupyter.widget-view+json": {
       "model_id": "b3af7e9d698342e7b6b61e2716ef6038",
       "version_major": 2,
       "version_minor": 0
      },
      "text/plain": [
       "RadioButtons(index=2, layout=Layout(width='100%'), options=('Keep both ICD-9 and ICD-10 codes', 'Convert ICD-9…"
      ]
     },
     "metadata": {},
     "output_type": "display_data"
    },
    {
     "name": "stdout",
     "output_type": "stream",
     "text": [
      "Do you want to group Medication codes to use Non propietary names?\n"
     ]
    },
    {
     "data": {
      "application/vnd.jupyter.widget-view+json": {
       "model_id": "eee2bc8d9b0c4ca082163f14c7d904fb",
       "version_major": 2,
       "version_minor": 0
      },
      "text/plain": [
       "RadioButtons(layout=Layout(width='100%'), options=('Yes', 'No'), value='Yes')"
      ]
     },
     "metadata": {},
     "output_type": "display_data"
    },
    {
     "name": "stdout",
     "output_type": "stream",
     "text": [
      "Which ICD codes for Procedures you want to keep in data?\n"
     ]
    },
    {
     "data": {
      "application/vnd.jupyter.widget-view+json": {
       "model_id": "0f02bd34717e42b2b86d1397d971c516",
       "version_major": 2,
       "version_minor": 0
      },
      "text/plain": [
       "RadioButtons(index=1, layout=Layout(width='100%'), options=('ICD-9 and ICD-10', 'ICD-10'), value='ICD-10')"
      ]
     },
     "metadata": {},
     "output_type": "display_data"
    },
    {
     "name": "stdout",
     "output_type": "stream",
     "text": [
      "**Please run below cell to perform feature preprocessing**\n"
     ]
    }
   ],
   "source": [
    "if diag_flag:\n",
    "    print(\"Do you want to group ICD 10 DIAG codes ?\")\n",
    "    radio_input4 = widgets.RadioButtons(options=['Keep both ICD-9 and ICD-10 codes','Convert ICD-9 to ICD-10 codes','Convert ICD-9 to ICD-10 and group ICD-10 codes'],value='Convert ICD-9 to ICD-10 and group ICD-10 codes',layout={'width': '100%'})\n",
    "    display(radio_input4)     \n",
    "if med_flag:\n",
    "    print(\"Do you want to group Medication codes to use Non propietary names?\")\n",
    "    radio_input5 = widgets.RadioButtons(options=['Yes','No'],value='Yes',layout={'width': '100%'})\n",
    "    display(radio_input5)\n",
    "if proc_flag:\n",
    "    print(\"Which ICD codes for Procedures you want to keep in data?\")\n",
    "    radio_input6 = widgets.RadioButtons(options=['ICD-9 and ICD-10','ICD-10'],value='ICD-10',layout={'width': '100%'})\n",
    "    display(radio_input6)\n",
    "print(\"**Please run below cell to perform feature preprocessing**\")"
   ]
  },
  {
   "cell_type": "code",
   "execution_count": 7,
   "id": "descending-symphony",
   "metadata": {},
   "outputs": [
    {
     "name": "stdout",
     "output_type": "stream",
     "text": [
      "[PROCESSING DIAGNOSIS DATA]\n",
      "Total number of rows 1398874\n",
      "[SUCCESSFULLY SAVED DIAGNOSIS DATA]\n",
      "[PROCESSING MEDICATIONS DATA]\n",
      "Total number of rows 2575767\n",
      "[SUCCESSFULLY SAVED MEDICATIONS DATA]\n",
      "[PROCESSING PROCEDURES DATA]\n",
      "Total number of rows 54166\n",
      "[SUCCESSFULLY SAVED PROCEDURES DATA]\n"
     ]
    }
   ],
   "source": [
    "group_diag=False\n",
    "group_med=False\n",
    "group_proc=False\n",
    "if diag_flag:\n",
    "    group_diag=radio_input4.value\n",
    "if med_flag:\n",
    "    group_med=radio_input5.value\n",
    "if proc_flag:\n",
    "    group_proc=radio_input6.value\n",
    "preprocess_features_hosp(cohort_output, diag_flag,proc_flag,med_flag,False,group_diag,group_med,group_proc,False,False,0,0)"
   ]
  },
  {
   "cell_type": "markdown",
   "id": "immediate-captain",
   "metadata": {},
   "source": [
    "### 4. SUMMARY OF FEATURES\n",
    "\n",
    "This step will generate summary of all features extracted so far.<br>\n",
    "It will save summary files in **./data/summary/**<br>\n",
    "- These files provide summary about **mean frequency** of medical codes per admission.<br>\n",
    "- It also provides **total occurrence count** of each medical code.<br>\n",
    "- For labs and chart events it will also provide <br>**missing %** which tells how many rows for a certain medical code has missing value.\n",
    "\n",
    "Please use this information to further refine your cohort by selecting <br>which medical codes in each feature you want to keep and <br>which codes you would like to remove for downstream analysis tasks.\n",
    "\n",
    "**Please run below cell to generate summary files**"
   ]
  },
  {
   "cell_type": "code",
   "execution_count": 8,
   "id": "thick-residence",
   "metadata": {},
   "outputs": [
    {
     "name": "stdout",
     "output_type": "stream",
     "text": [
      "[GENERATING FEATURE SUMMARY]\n"
     ]
    },
    {
     "name": "stderr",
     "output_type": "stream",
     "text": [
      "2it [00:19,  9.67s/it]\n"
     ]
    },
    {
     "name": "stdout",
     "output_type": "stream",
     "text": [
      "[SUCCESSFULLY SAVED FEATURE SUMMARY]\n"
     ]
    }
   ],
   "source": [
    "generate_summary_hosp(diag_flag,proc_flag,med_flag,lab_flag)"
   ]
  },
  {
   "cell_type": "markdown",
   "id": "northern-architecture",
   "metadata": {},
   "source": [
    "## 5. Feature Selection\n",
    "\n",
    "based on the files generated in previous step and other infromation gathered by you,<br>\n",
    "Please select which medical codes you want to include in this study.\n",
    "\n",
    "Please run below cell to to select options for which features you want to perform feature selection.\n",
    "\n",
    "- Select **Yes** if you want to select a subset of medical codes for that feature and<br> **edit** the corresponding feature file for it.\n",
    "- Select **No** if you want to keep all the codes in a feature."
   ]
  },
  {
   "cell_type": "code",
   "execution_count": 9,
   "id": "immediate-seafood",
   "metadata": {},
   "outputs": [
    {
     "name": "stdout",
     "output_type": "stream",
     "text": [
      "Do you want to do Feature Selection for Diagnosis \n",
      " (If yes, please edit list of codes in ./data/summary/diag_features.csv)\n"
     ]
    },
    {
     "data": {
      "application/vnd.jupyter.widget-view+json": {
       "model_id": "9e0adc279d9f4dc6ac5cdd9ce8be0708",
       "version_major": 2,
       "version_minor": 0
      },
      "text/plain": [
       "RadioButtons(index=1, options=('Yes', 'No'), value='No')"
      ]
     },
     "metadata": {},
     "output_type": "display_data"
    },
    {
     "name": "stdout",
     "output_type": "stream",
     "text": [
      "Do you want to do Feature Selection for Medication \n",
      " (If yes, please edit list of codes in ./data/summary/med_features.csv)\n"
     ]
    },
    {
     "data": {
      "application/vnd.jupyter.widget-view+json": {
       "model_id": "ccc02bac5245460d8a964140607798e7",
       "version_major": 2,
       "version_minor": 0
      },
      "text/plain": [
       "RadioButtons(index=1, options=('Yes', 'No'), value='No')"
      ]
     },
     "metadata": {},
     "output_type": "display_data"
    },
    {
     "name": "stdout",
     "output_type": "stream",
     "text": [
      "Do you want to do Feature Selection for Procedures \n",
      " (If yes, please edit list of codes in ./data/summary/proc_features.csv)\n"
     ]
    },
    {
     "data": {
      "application/vnd.jupyter.widget-view+json": {
       "model_id": "4a553934933c43e69dd297707e401901",
       "version_major": 2,
       "version_minor": 0
      },
      "text/plain": [
       "RadioButtons(index=1, options=('Yes', 'No'), value='No')"
      ]
     },
     "metadata": {},
     "output_type": "display_data"
    },
    {
     "name": "stdout",
     "output_type": "stream",
     "text": [
      "Do you want to do Feature Selection for Labs \n",
      " (If yes, please edit list of codes in ./data/summary/lab_features.csv)\n"
     ]
    },
    {
     "data": {
      "application/vnd.jupyter.widget-view+json": {
       "model_id": "650c6496833f49c7a66b06fc8102a664",
       "version_major": 2,
       "version_minor": 0
      },
      "text/plain": [
       "RadioButtons(index=1, options=('Yes', 'No'), value='No')"
      ]
     },
     "metadata": {},
     "output_type": "display_data"
    },
    {
     "name": "stdout",
     "output_type": "stream",
     "text": [
      "**Please run below cell to perform feature selection**\n"
     ]
    }
   ],
   "source": [
    "if diag_flag:\n",
    "    print(\"Do you want to do Feature Selection for Diagnosis \\n (If yes, please edit list of codes in ./data/summary/diag_features.csv)\")\n",
    "    radio_input4 = widgets.RadioButtons(options=['Yes','No'],value='No')\n",
    "    display(radio_input4)         \n",
    "if med_flag:\n",
    "    print(\"Do you want to do Feature Selection for Medication \\n (If yes, please edit list of codes in ./data/summary/med_features.csv)\")\n",
    "    radio_input5 = widgets.RadioButtons(options=['Yes','No'],value='No')\n",
    "    display(radio_input5)   \n",
    "if proc_flag:\n",
    "    print(\"Do you want to do Feature Selection for Procedures \\n (If yes, please edit list of codes in ./data/summary/proc_features.csv)\")\n",
    "    radio_input6 = widgets.RadioButtons(options=['Yes','No'],value='No')\n",
    "    display(radio_input6)   \n",
    "if lab_flag:\n",
    "    print(\"Do you want to do Feature Selection for Labs \\n (If yes, please edit list of codes in ./data/summary/lab_features.csv)\")\n",
    "    radio_input7 = widgets.RadioButtons(options=['Yes','No'],value='No')\n",
    "    display(radio_input7)   \n",
    "print(\"**Please run below cell to perform feature selection**\")"
   ]
  },
  {
   "cell_type": "code",
   "execution_count": 10,
   "id": "perceived-python",
   "metadata": {},
   "outputs": [],
   "source": [
    "select_diag=False\n",
    "select_med=False\n",
    "select_proc=False\n",
    "select_lab=False\n",
    "select_out=False\n",
    "select_chart=False\n",
    "\n",
    "if diag_flag:\n",
    "    select_diag=radio_input4.value == 'Yes'\n",
    "if med_flag:\n",
    "    select_med=radio_input5.value == 'Yes'\n",
    "if proc_flag:\n",
    "    select_proc=radio_input6.value == 'Yes'\n",
    "if lab_flag:\n",
    "    select_lab=radio_input7.value == 'Yes'\n",
    "features_selection_hosp(cohort_output, diag_flag,proc_flag,med_flag,lab_flag,select_diag,select_med,select_proc,select_lab)"
   ]
  },
  {
   "cell_type": "markdown",
   "id": "comfortable-director",
   "metadata": {},
   "source": [
    "## 6. CLEANING OF FEATURES\n",
    "Below you will have option to to clean lab and chart events by performing outlier removal and unit conversion.\n",
    "\n",
    "Outlier removal is performed to remove values higher than selected **right threshold** percentile and lower than selected **left threshold** percentile among all values for each itemid. \n",
    "\n",
    "**Please run below cell to select preprocessing for diferent features**"
   ]
  },
  {
   "cell_type": "code",
   "execution_count": 11,
   "id": "moderate-forum",
   "metadata": {},
   "outputs": [
    {
     "name": "stdout",
     "output_type": "stream",
     "text": [
      "Outlier removal in values of lab events ?\n"
     ]
    },
    {
     "data": {
      "application/vnd.jupyter.widget-view+json": {
       "model_id": "991860c5dc7a46c4bbd6fccc921d5508",
       "version_major": 2,
       "version_minor": 0
      },
      "text/plain": [
       "RadioButtons(layout=Layout(height='40px', width='100%'), options=('No outlier detection', 'Impute Outlier (def…"
      ]
     },
     "metadata": {},
     "output_type": "display_data"
    },
    {
     "data": {
      "application/vnd.jupyter.widget-view+json": {
       "model_id": "73277dfdef64463fb7a27ac2e8211c5a",
       "version_major": 2,
       "version_minor": 0
      },
      "text/plain": [
       "HBox(children=(Label(value='Right Outlier Threshold', layout=Layout(width='150px')), IntSlider(value=98, layou…"
      ]
     },
     "metadata": {},
     "output_type": "display_data"
    },
    {
     "data": {
      "application/vnd.jupyter.widget-view+json": {
       "model_id": "ecd8b8a3c75e40ef855c2833a03e155d",
       "version_major": 2,
       "version_minor": 0
      },
      "text/plain": [
       "HBox(children=(Label(value='Left Outlier Threshold', layout=Layout(width='150px')), IntSlider(value=0, layout=…"
      ]
     },
     "metadata": {},
     "output_type": "display_data"
    },
    {
     "name": "stdout",
     "output_type": "stream",
     "text": [
      "**Please run below cell to perform feature preprocessing**\n"
     ]
    }
   ],
   "source": [
    "if lab_flag:\n",
    "    print(\"Outlier removal in values of lab events ?\")\n",
    "    layout = widgets.Layout(width='100%', height='40px') #set width and height\n",
    "\n",
    "    radio_input7 = widgets.RadioButtons(options=['No outlier detection','Impute Outlier (default:98)','Remove outliers (default:98)'],value='No outlier detection',layout=layout)\n",
    "    display(radio_input7)\n",
    "    outlier=widgets.IntSlider(\n",
    "    value=98,\n",
    "    min=90,\n",
    "    max=99,\n",
    "    step=1,\n",
    "    disabled=False,layout={'width': '100%'}\n",
    "    )\n",
    "    left_outlier=widgets.IntSlider(\n",
    "    value=0,\n",
    "    min=0,\n",
    "    max=10,\n",
    "    step=1,\n",
    "    disabled=False,layout={'width': '100%'}\n",
    "    )\n",
    "    #display(oulier)\n",
    "    display(widgets.HBox([widgets.Label('Right Outlier Threshold',layout={'width': '150px'}), outlier]))\n",
    "    display(widgets.HBox([widgets.Label('Left Outlier Threshold',layout={'width': '150px'}), left_outlier]))\n",
    "print(\"**Please run below cell to perform feature preprocessing**\")"
   ]
  },
  {
   "cell_type": "code",
   "execution_count": 12,
   "id": "impossible-mailman",
   "metadata": {},
   "outputs": [],
   "source": [
    "thresh=0\n",
    "if lab_flag:\n",
    "    clean_lab=radio_input7.value!='No outlier detection'\n",
    "    impute_outlier=radio_input7.value=='Impute Outlier (default:98)'\n",
    "    thresh=outlier.value\n",
    "    left_thresh=left_outlier.value\n",
    "preprocess_features_hosp(cohort_output, False,False,False,lab_flag,False,False,False,clean_lab,impute_outlier,thresh,left_thresh)"
   ]
  },
  {
   "cell_type": "markdown",
   "id": "49ea94b9",
   "metadata": {},
   "source": [
    "## 7. Add diag names and lab names"
   ]
  },
  {
   "cell_type": "code",
   "execution_count": 13,
   "id": "f5bfd067",
   "metadata": {},
   "outputs": [],
   "source": [
    "read_dir = './data/features/'\n",
    "save_dir = './processed/'"
   ]
  },
  {
   "cell_type": "markdown",
   "id": "9c684051",
   "metadata": {},
   "source": [
    "### cohort"
   ]
  },
  {
   "cell_type": "code",
   "execution_count": 14,
   "id": "21c4b890",
   "metadata": {},
   "outputs": [
    {
     "name": "stdout",
     "output_type": "stream",
     "text": [
      "<class 'pandas.core.frame.DataFrame'>\n",
      "RangeIndex: 97965 entries, 0 to 97964\n",
      "Data columns (total 9 columns):\n",
      " #   Column      Non-Null Count  Dtype  \n",
      "---  ------      --------------  -----  \n",
      " 0   subject_id  97965 non-null  float64\n",
      " 1   hadm_id     97965 non-null  float64\n",
      " 2   admittime   97965 non-null  object \n",
      " 3   dischtime   97965 non-null  object \n",
      " 4   Age         97965 non-null  float64\n",
      " 5   gender      97965 non-null  object \n",
      " 6   ethnicity   97965 non-null  object \n",
      " 7   insurance   97965 non-null  object \n",
      " 8   label       97965 non-null  int64  \n",
      "dtypes: float64(3), int64(1), object(5)\n",
      "memory usage: 6.7+ MB\n"
     ]
    }
   ],
   "source": [
    "cohort = pd.read_csv('./data/cohort/cohort_non-icu_readmission_30_E11.csv.gz', compression='gzip')\n",
    "cohort.info()"
   ]
  },
  {
   "cell_type": "code",
   "execution_count": 15,
   "id": "3f0c4bde",
   "metadata": {},
   "outputs": [
    {
     "name": "stdout",
     "output_type": "stream",
     "text": [
      "train         48590\n",
      "test          16218\n",
      "validation    16191\n",
      "Name: split, dtype: int64\n"
     ]
    },
    {
     "data": {
      "text/html": [
       "<div>\n",
       "<style scoped>\n",
       "    .dataframe tbody tr th:only-of-type {\n",
       "        vertical-align: middle;\n",
       "    }\n",
       "\n",
       "    .dataframe tbody tr th {\n",
       "        vertical-align: top;\n",
       "    }\n",
       "\n",
       "    .dataframe thead th {\n",
       "        text-align: right;\n",
       "    }\n",
       "</style>\n",
       "<table border=\"1\" class=\"dataframe\">\n",
       "  <thead>\n",
       "    <tr style=\"text-align: right;\">\n",
       "      <th></th>\n",
       "      <th>subject_id</th>\n",
       "      <th>hadm_id</th>\n",
       "      <th>admittime</th>\n",
       "      <th>dischtime</th>\n",
       "      <th>gender</th>\n",
       "      <th>ethnicity</th>\n",
       "      <th>insurance</th>\n",
       "      <th>label</th>\n",
       "      <th>split</th>\n",
       "    </tr>\n",
       "  </thead>\n",
       "  <tbody>\n",
       "    <tr>\n",
       "      <th>52588</th>\n",
       "      <td>12064199.0</td>\n",
       "      <td>20575220.0</td>\n",
       "      <td>2177-07-28 07:15:00</td>\n",
       "      <td>2177-08-03 13:25:00</td>\n",
       "      <td>M</td>\n",
       "      <td>WHITE</td>\n",
       "      <td>Medicare</td>\n",
       "      <td>0</td>\n",
       "      <td>train</td>\n",
       "    </tr>\n",
       "    <tr>\n",
       "      <th>45239</th>\n",
       "      <td>16335352.0</td>\n",
       "      <td>20728992.0</td>\n",
       "      <td>2193-01-17 16:36:00</td>\n",
       "      <td>2193-01-18 15:15:00</td>\n",
       "      <td>M</td>\n",
       "      <td>WHITE</td>\n",
       "      <td>Other</td>\n",
       "      <td>0</td>\n",
       "      <td>validation</td>\n",
       "    </tr>\n",
       "    <tr>\n",
       "      <th>47787</th>\n",
       "      <td>18541554.0</td>\n",
       "      <td>24582627.0</td>\n",
       "      <td>2114-07-05 21:32:00</td>\n",
       "      <td>2114-07-09 18:20:00</td>\n",
       "      <td>M</td>\n",
       "      <td>WHITE</td>\n",
       "      <td>Other</td>\n",
       "      <td>0</td>\n",
       "      <td>test</td>\n",
       "    </tr>\n",
       "    <tr>\n",
       "      <th>65630</th>\n",
       "      <td>12522208.0</td>\n",
       "      <td>26224516.0</td>\n",
       "      <td>2155-04-27 08:37:00</td>\n",
       "      <td>2155-05-17 16:21:00</td>\n",
       "      <td>M</td>\n",
       "      <td>BLACK/AFRICAN AMERICAN</td>\n",
       "      <td>Other</td>\n",
       "      <td>0</td>\n",
       "      <td>train</td>\n",
       "    </tr>\n",
       "    <tr>\n",
       "      <th>75165</th>\n",
       "      <td>11494753.0</td>\n",
       "      <td>29021708.0</td>\n",
       "      <td>2126-08-31 03:33:00</td>\n",
       "      <td>2126-09-04 11:00:00</td>\n",
       "      <td>M</td>\n",
       "      <td>WHITE</td>\n",
       "      <td>Medicare</td>\n",
       "      <td>1</td>\n",
       "      <td>train</td>\n",
       "    </tr>\n",
       "  </tbody>\n",
       "</table>\n",
       "</div>"
      ],
      "text/plain": [
       "       subject_id     hadm_id            admittime            dischtime  \\\n",
       "52588  12064199.0  20575220.0  2177-07-28 07:15:00  2177-08-03 13:25:00   \n",
       "45239  16335352.0  20728992.0  2193-01-17 16:36:00  2193-01-18 15:15:00   \n",
       "47787  18541554.0  24582627.0  2114-07-05 21:32:00  2114-07-09 18:20:00   \n",
       "65630  12522208.0  26224516.0  2155-04-27 08:37:00  2155-05-17 16:21:00   \n",
       "75165  11494753.0  29021708.0  2126-08-31 03:33:00  2126-09-04 11:00:00   \n",
       "\n",
       "      gender               ethnicity insurance  label       split  \n",
       "52588      M                   WHITE  Medicare      0       train  \n",
       "45239      M                   WHITE     Other      0  validation  \n",
       "47787      M                   WHITE     Other      0        test  \n",
       "65630      M  BLACK/AFRICAN AMERICAN     Other      0       train  \n",
       "75165      M                   WHITE  Medicare      1       train  "
      ]
     },
     "execution_count": 15,
     "metadata": {},
     "output_type": "execute_result"
    }
   ],
   "source": [
    "def split_df(dataframe):\n",
    "    total_rows = len(dataframe)\n",
    "    train_end = int(total_rows * 0.6)\n",
    "    validation_end = train_end + int(total_rows * 0.2)\n",
    "\n",
    "    dataframe['split'] = 'train'  # Default to 'train'\n",
    "    dataframe.loc[train_end:validation_end-1, 'split'] = 'validation'\n",
    "    dataframe.loc[validation_end:, 'split'] = 'test'\n",
    "    return dataframe\n",
    "\n",
    "cohort_new = cohort.replace({\n",
    "    'WHITE - RUSSIAN': 'WHITE',\n",
    "    'WHITE - OTHER EUROPEAN': 'WHITE',\n",
    "    'HISPANIC/LATINO - PUERTO RICAN': 'HISPANIC OR LATINO',\n",
    "    'ASIAN - CHINESE': 'ASIAN',\n",
    "    'BLACK/CAPE VERDEAN': 'BLACK/AFRICAN AMERICAN',\n",
    "    'HISPANIC/LATINO - DOMINICAN': 'HISPANIC OR LATINO',\n",
    "    'BLACK/CARIBBEAN ISLAND': 'BLACK/AFRICAN AMERICAN',\n",
    "    'BLACK/AFRICAN': 'BLACK/AFRICAN AMERICAN',\n",
    "    'PORTUGUESE': 'WHITE',\n",
    "    'UNABLE TO OBTAIN': 'UNKNOWN',\n",
    "    'WHITE - EASTERN EUROPEAN': 'WHITE',\n",
    "    'ASIAN - SOUTH EAST ASIAN': 'ASIAN',                       \n",
    "    'HISPANIC/LATINO - GUATEMALAN': 'HISPANIC OR LATINO',\n",
    "    'PATIENT DECLINED TO ANSWER': 'UNKNOWN',                     \n",
    "    'AMERICAN INDIAN/ALASKA NATIVE': 'OTHER',                  \n",
    "    'ASIAN - ASIAN INDIAN': 'ASIAN',                           \n",
    "    'HISPANIC/LATINO - SALVADORAN': 'HISPANIC OR LATINO',\n",
    "    'HISPANIC/LATINO - CUBAN': 'HISPANIC OR LATINO',\n",
    "    'HISPANIC/LATINO - CENTRAL AMERICAN': 'HISPANIC OR LATINO',\n",
    "    'HISPANIC/LATINO - HONDURAN': 'HISPANIC OR LATINO',\n",
    "    'HISPANIC/LATINO - COLUMBIAN': 'HISPANIC OR LATINO',\n",
    "    'HISPANIC/LATINO - MEXICAN': 'HISPANIC OR LATINO',\n",
    "    'WHITE - BRAZILIAN': 'WHITE',\n",
    "    'NATIVE HAWAIIAN OR OTHER PACIFIC ISLANDER': 'OTHER',       \n",
    "    'SOUTH AMERICAN': 'HISPANIC OR LATINO',                                  \n",
    "    'ASIAN - KOREAN': 'ASIAN',                                  \n",
    "    'MULTIPLE RACE/ETHNICITY': 'OTHER',                         \n",
    "})\n",
    "cohort_new = cohort_new[(cohort_new.ethnicity=='WHITE')|(cohort_new.ethnicity=='BLACK/AFRICAN AMERICAN')]\n",
    "cohort_new['insurance_01'] = cohort_new['insurance']=='Other'\n",
    "split_dfs = []\n",
    "for gender in ['F', 'M']:\n",
    "    for label in [0, 1]:\n",
    "        for ethnicity in ['WHITE', 'BLACK/AFRICAN AMERICAN']:\n",
    "            for insurance_01 in [True, False]:\n",
    "                subset = cohort_new[(cohort_new['gender'] == gender) & \n",
    "                                (cohort_new['label'] == label) & \n",
    "                                (cohort_new['ethnicity'] == ethnicity) & \n",
    "                                (cohort_new['insurance_01'] == insurance_01)]\n",
    "                if not subset.empty:\n",
    "                    split_dfs.append(split_df(subset.copy().reset_index()))\n",
    "cohort_new = pd.concat(split_dfs).reset_index()                \n",
    "cohort_new = cohort_new.drop(columns=['level_0', 'index', 'Age', 'insurance_01'])\n",
    "print(cohort_new.split.value_counts())\n",
    "cohort_new.sample(5)"
   ]
  },
  {
   "cell_type": "code",
   "execution_count": 16,
   "id": "4c212aaf",
   "metadata": {},
   "outputs": [
    {
     "name": "stdout",
     "output_type": "stream",
     "text": [
      "<class 'pandas.core.frame.DataFrame'>\n",
      "RangeIndex: 80999 entries, 0 to 80998\n",
      "Data columns (total 9 columns):\n",
      " #   Column      Non-Null Count  Dtype  \n",
      "---  ------      --------------  -----  \n",
      " 0   subject_id  80999 non-null  float64\n",
      " 1   hadm_id     80999 non-null  float64\n",
      " 2   admittime   80999 non-null  object \n",
      " 3   dischtime   80999 non-null  object \n",
      " 4   gender      80999 non-null  object \n",
      " 5   ethnicity   80999 non-null  object \n",
      " 6   insurance   80999 non-null  object \n",
      " 7   label       80999 non-null  int64  \n",
      " 8   split       80999 non-null  object \n",
      "dtypes: float64(2), int64(1), object(6)\n",
      "memory usage: 5.6+ MB\n"
     ]
    }
   ],
   "source": [
    "cohort_new.to_csv(save_dir + 'cohort.csv')\n",
    "cohort_new.info()"
   ]
  },
  {
   "cell_type": "markdown",
   "id": "4a8b0a6f",
   "metadata": {},
   "source": [
    "### Diag"
   ]
  },
  {
   "cell_type": "code",
   "execution_count": 17,
   "id": "4b4ba13c",
   "metadata": {},
   "outputs": [
    {
     "name": "stdout",
     "output_type": "stream",
     "text": [
      "<class 'pandas.core.frame.DataFrame'>\n",
      "RangeIndex: 1398874 entries, 0 to 1398873\n",
      "Data columns (total 3 columns):\n",
      " #   Column        Non-Null Count    Dtype \n",
      "---  ------        --------------    ----- \n",
      " 0   subject_id    1398874 non-null  int64 \n",
      " 1   hadm_id       1398874 non-null  int64 \n",
      " 2   new_icd_code  1398874 non-null  object\n",
      "dtypes: int64(2), object(1)\n",
      "memory usage: 32.0+ MB\n"
     ]
    }
   ],
   "source": [
    "diag = pd.read_csv(read_dir + 'preproc_diag.csv.gz', compression='gzip')\n",
    "diag.info()"
   ]
  },
  {
   "cell_type": "code",
   "execution_count": 18,
   "id": "a0329a13",
   "metadata": {},
   "outputs": [
    {
     "data": {
      "text/html": [
       "<div>\n",
       "<style scoped>\n",
       "    .dataframe tbody tr th:only-of-type {\n",
       "        vertical-align: middle;\n",
       "    }\n",
       "\n",
       "    .dataframe tbody tr th {\n",
       "        vertical-align: top;\n",
       "    }\n",
       "\n",
       "    .dataframe thead th {\n",
       "        text-align: right;\n",
       "    }\n",
       "</style>\n",
       "<table border=\"1\" class=\"dataframe\">\n",
       "  <thead>\n",
       "    <tr style=\"text-align: right;\">\n",
       "      <th></th>\n",
       "      <th>subject_id</th>\n",
       "      <th>hadm_id</th>\n",
       "      <th>new_icd_code</th>\n",
       "      <th>long_title</th>\n",
       "    </tr>\n",
       "  </thead>\n",
       "  <tbody>\n",
       "    <tr>\n",
       "      <th>222378</th>\n",
       "      <td>11582633</td>\n",
       "      <td>25206766</td>\n",
       "      <td>F32</td>\n",
       "      <td>Major depressive disorder, single episode</td>\n",
       "    </tr>\n",
       "    <tr>\n",
       "      <th>1114873</th>\n",
       "      <td>17968595</td>\n",
       "      <td>29041322</td>\n",
       "      <td>K21</td>\n",
       "      <td>Gastro-esophageal reflux disease</td>\n",
       "    </tr>\n",
       "    <tr>\n",
       "      <th>32045</th>\n",
       "      <td>10252385</td>\n",
       "      <td>21057326</td>\n",
       "      <td>G43</td>\n",
       "      <td>Migraine</td>\n",
       "    </tr>\n",
       "    <tr>\n",
       "      <th>1258704</th>\n",
       "      <td>18974079</td>\n",
       "      <td>27761005</td>\n",
       "      <td>I25</td>\n",
       "      <td>Chronic ischemic heart disease</td>\n",
       "    </tr>\n",
       "    <tr>\n",
       "      <th>797948</th>\n",
       "      <td>15661244</td>\n",
       "      <td>27008859</td>\n",
       "      <td>E66</td>\n",
       "      <td>Overweight and obesity</td>\n",
       "    </tr>\n",
       "  </tbody>\n",
       "</table>\n",
       "</div>"
      ],
      "text/plain": [
       "         subject_id   hadm_id new_icd_code  \\\n",
       "222378     11582633  25206766          F32   \n",
       "1114873    17968595  29041322          K21   \n",
       "32045      10252385  21057326          G43   \n",
       "1258704    18974079  27761005          I25   \n",
       "797948     15661244  27008859          E66   \n",
       "\n",
       "                                        long_title  \n",
       "222378   Major depressive disorder, single episode  \n",
       "1114873           Gastro-esophageal reflux disease  \n",
       "32045                                     Migraine  \n",
       "1258704             Chronic ischemic heart disease  \n",
       "797948                      Overweight and obesity  "
      ]
     },
     "execution_count": 18,
     "metadata": {},
     "output_type": "execute_result"
    }
   ],
   "source": [
    "icd_map = pd.read_csv('./mimiciv/2.2/hosp/d_icd_diagnoses.csv.gz', compression='gzip')\n",
    "icd_map = icd_map[icd_map.icd_version==10]\n",
    "\n",
    "diag_new = pd.merge(diag, icd_map, left_on='new_icd_code', right_on='icd_code', how='left')\n",
    "diag_new = diag_new[['subject_id','hadm_id','new_icd_code','long_title']]\n",
    "diag_new = diag_new[diag_new.hadm_id.isin(cohort_new.hadm_id)]\n",
    "diag_new.sample(5)"
   ]
  },
  {
   "cell_type": "code",
   "execution_count": 19,
   "id": "a79dc70d",
   "metadata": {
    "scrolled": true
   },
   "outputs": [
    {
     "name": "stdout",
     "output_type": "stream",
     "text": [
      "<class 'pandas.core.frame.DataFrame'>\n",
      "Int64Index: 1169248 entries, 0 to 1398873\n",
      "Data columns (total 4 columns):\n",
      " #   Column        Non-Null Count    Dtype \n",
      "---  ------        --------------    ----- \n",
      " 0   subject_id    1169248 non-null  int64 \n",
      " 1   hadm_id       1169248 non-null  int64 \n",
      " 2   new_icd_code  1169248 non-null  object\n",
      " 3   long_title    1169248 non-null  object\n",
      "dtypes: int64(2), object(2)\n",
      "memory usage: 44.6+ MB\n"
     ]
    }
   ],
   "source": [
    "diag_new.to_csv(save_dir + 'diag.csv')\n",
    "diag_new.info()"
   ]
  },
  {
   "cell_type": "markdown",
   "id": "eacb33b6",
   "metadata": {},
   "source": [
    "### Labs"
   ]
  },
  {
   "cell_type": "code",
   "execution_count": 20,
   "id": "cf7cac43",
   "metadata": {},
   "outputs": [
    {
     "name": "stdout",
     "output_type": "stream",
     "text": [
      "<class 'pandas.core.frame.DataFrame'>\n",
      "RangeIndex: 17566395 entries, 0 to 17566394\n",
      "Data columns (total 7 columns):\n",
      " #   Column               Dtype  \n",
      "---  ------               -----  \n",
      " 0   subject_id           int64  \n",
      " 1   hadm_id              float64\n",
      " 2   charttime            object \n",
      " 3   itemid               int64  \n",
      " 4   admittime            object \n",
      " 5   lab_time_from_admit  object \n",
      " 6   valuenum             float64\n",
      "dtypes: float64(2), int64(2), object(3)\n",
      "memory usage: 938.1+ MB\n"
     ]
    }
   ],
   "source": [
    "labs = pd.read_csv(read_dir + 'preproc_labs.csv.gz', compression='gzip')\n",
    "labs.info()"
   ]
  },
  {
   "cell_type": "code",
   "execution_count": 21,
   "id": "f171a687",
   "metadata": {},
   "outputs": [
    {
     "data": {
      "text/html": [
       "<div>\n",
       "<style scoped>\n",
       "    .dataframe tbody tr th:only-of-type {\n",
       "        vertical-align: middle;\n",
       "    }\n",
       "\n",
       "    .dataframe tbody tr th {\n",
       "        vertical-align: top;\n",
       "    }\n",
       "\n",
       "    .dataframe thead th {\n",
       "        text-align: right;\n",
       "    }\n",
       "</style>\n",
       "<table border=\"1\" class=\"dataframe\">\n",
       "  <thead>\n",
       "    <tr style=\"text-align: right;\">\n",
       "      <th></th>\n",
       "      <th>subject_id</th>\n",
       "      <th>hadm_id</th>\n",
       "      <th>itemid</th>\n",
       "      <th>lab_time_from_admit</th>\n",
       "      <th>valuenum</th>\n",
       "      <th>label</th>\n",
       "      <th>fluid</th>\n",
       "      <th>category</th>\n",
       "    </tr>\n",
       "  </thead>\n",
       "  <tbody>\n",
       "    <tr>\n",
       "      <th>15917596</th>\n",
       "      <td>19052360</td>\n",
       "      <td>28611373.0</td>\n",
       "      <td>51301</td>\n",
       "      <td>0 days 18:04:00</td>\n",
       "      <td>9.5</td>\n",
       "      <td>White Blood Cells</td>\n",
       "      <td>Blood</td>\n",
       "      <td>Hematology</td>\n",
       "    </tr>\n",
       "    <tr>\n",
       "      <th>5508339</th>\n",
       "      <td>13140343</td>\n",
       "      <td>27308490.0</td>\n",
       "      <td>50960</td>\n",
       "      <td>3 days 06:43:00</td>\n",
       "      <td>1.8</td>\n",
       "      <td>Magnesium</td>\n",
       "      <td>Blood</td>\n",
       "      <td>Chemistry</td>\n",
       "    </tr>\n",
       "    <tr>\n",
       "      <th>13317149</th>\n",
       "      <td>17529736</td>\n",
       "      <td>23557183.0</td>\n",
       "      <td>50947</td>\n",
       "      <td>-1 days +10:59:00</td>\n",
       "      <td>7.0</td>\n",
       "      <td>I</td>\n",
       "      <td>Blood</td>\n",
       "      <td>Chemistry</td>\n",
       "    </tr>\n",
       "    <tr>\n",
       "      <th>15517526</th>\n",
       "      <td>18810350</td>\n",
       "      <td>26619418.0</td>\n",
       "      <td>51274</td>\n",
       "      <td>0 days 16:05:00</td>\n",
       "      <td>20.6</td>\n",
       "      <td>PT</td>\n",
       "      <td>Blood</td>\n",
       "      <td>Hematology</td>\n",
       "    </tr>\n",
       "    <tr>\n",
       "      <th>7096635</th>\n",
       "      <td>14001336</td>\n",
       "      <td>22216032.0</td>\n",
       "      <td>51250</td>\n",
       "      <td>8 days 07:29:00</td>\n",
       "      <td>100.0</td>\n",
       "      <td>MCV</td>\n",
       "      <td>Blood</td>\n",
       "      <td>Hematology</td>\n",
       "    </tr>\n",
       "  </tbody>\n",
       "</table>\n",
       "</div>"
      ],
      "text/plain": [
       "          subject_id     hadm_id  itemid lab_time_from_admit  valuenum  \\\n",
       "15917596    19052360  28611373.0   51301     0 days 18:04:00       9.5   \n",
       "5508339     13140343  27308490.0   50960     3 days 06:43:00       1.8   \n",
       "13317149    17529736  23557183.0   50947   -1 days +10:59:00       7.0   \n",
       "15517526    18810350  26619418.0   51274     0 days 16:05:00      20.6   \n",
       "7096635     14001336  22216032.0   51250     8 days 07:29:00     100.0   \n",
       "\n",
       "                      label  fluid    category  \n",
       "15917596  White Blood Cells  Blood  Hematology  \n",
       "5508339           Magnesium  Blood   Chemistry  \n",
       "13317149                  I  Blood   Chemistry  \n",
       "15517526                 PT  Blood  Hematology  \n",
       "7096635                 MCV  Blood  Hematology  "
      ]
     },
     "execution_count": 21,
     "metadata": {},
     "output_type": "execute_result"
    }
   ],
   "source": [
    "lab_map = pd.read_csv('./mimiciv/2.2/hosp/d_labitems.csv.gz', compression='gzip')\n",
    "\n",
    "labs_new = pd.merge(labs, lab_map, on='itemid', how='left')\n",
    "labs_new = labs_new[['subject_id','hadm_id','itemid','lab_time_from_admit','valuenum','label','fluid','category']]\n",
    "labs_new = labs_new[labs_new.hadm_id.isin(cohort_new.hadm_id)]\n",
    "labs_new.sample(5)"
   ]
  },
  {
   "cell_type": "code",
   "execution_count": 22,
   "id": "b7401039",
   "metadata": {
    "scrolled": true
   },
   "outputs": [
    {
     "name": "stdout",
     "output_type": "stream",
     "text": [
      "<class 'pandas.core.frame.DataFrame'>\n",
      "Int64Index: 14321645 entries, 0 to 17566394\n",
      "Data columns (total 8 columns):\n",
      " #   Column               Dtype  \n",
      "---  ------               -----  \n",
      " 0   subject_id           int64  \n",
      " 1   hadm_id              float64\n",
      " 2   itemid               int64  \n",
      " 3   lab_time_from_admit  object \n",
      " 4   valuenum             float64\n",
      " 5   label                object \n",
      " 6   fluid                object \n",
      " 7   category             object \n",
      "dtypes: float64(2), int64(2), object(4)\n",
      "memory usage: 983.4+ MB\n"
     ]
    }
   ],
   "source": [
    "labs_new.to_csv(save_dir + 'labs.csv')\n",
    "labs_new.info()"
   ]
  },
  {
   "cell_type": "markdown",
   "id": "8c795406",
   "metadata": {},
   "source": [
    "### Proc"
   ]
  },
  {
   "cell_type": "code",
   "execution_count": 23,
   "id": "b2b36f56",
   "metadata": {},
   "outputs": [
    {
     "name": "stdout",
     "output_type": "stream",
     "text": [
      "<class 'pandas.core.frame.DataFrame'>\n",
      "RangeIndex: 54166 entries, 0 to 54165\n",
      "Data columns (total 6 columns):\n",
      " #   Column                Non-Null Count  Dtype \n",
      "---  ------                --------------  ----- \n",
      " 0   subject_id            54166 non-null  int64 \n",
      " 1   hadm_id               54166 non-null  int64 \n",
      " 2   icd_code              54166 non-null  object\n",
      " 3   chartdate             54166 non-null  object\n",
      " 4   admittime             54166 non-null  object\n",
      " 5   proc_time_from_admit  54166 non-null  object\n",
      "dtypes: int64(2), object(4)\n",
      "memory usage: 2.5+ MB\n"
     ]
    }
   ],
   "source": [
    "proc = pd.read_csv(read_dir + 'preproc_proc.csv.gz', compression='gzip')\n",
    "proc.info()"
   ]
  },
  {
   "cell_type": "code",
   "execution_count": 24,
   "id": "108e1412",
   "metadata": {},
   "outputs": [
    {
     "data": {
      "text/html": [
       "<div>\n",
       "<style scoped>\n",
       "    .dataframe tbody tr th:only-of-type {\n",
       "        vertical-align: middle;\n",
       "    }\n",
       "\n",
       "    .dataframe tbody tr th {\n",
       "        vertical-align: top;\n",
       "    }\n",
       "\n",
       "    .dataframe thead th {\n",
       "        text-align: right;\n",
       "    }\n",
       "</style>\n",
       "<table border=\"1\" class=\"dataframe\">\n",
       "  <thead>\n",
       "    <tr style=\"text-align: right;\">\n",
       "      <th></th>\n",
       "      <th>subject_id</th>\n",
       "      <th>hadm_id</th>\n",
       "      <th>icd_code</th>\n",
       "      <th>proc_time_from_admit</th>\n",
       "      <th>long_title</th>\n",
       "    </tr>\n",
       "  </thead>\n",
       "  <tbody>\n",
       "    <tr>\n",
       "      <th>35934</th>\n",
       "      <td>16400300</td>\n",
       "      <td>23186972</td>\n",
       "      <td>02110Z9</td>\n",
       "      <td>0 days 10:06:00</td>\n",
       "      <td>Bypass Coronary Artery, Two Arteries from Left...</td>\n",
       "    </tr>\n",
       "    <tr>\n",
       "      <th>767</th>\n",
       "      <td>10148145</td>\n",
       "      <td>25168500</td>\n",
       "      <td>0W9930Z</td>\n",
       "      <td>0 days 01:50:00</td>\n",
       "      <td>Drainage of Right Pleural Cavity with Drainage...</td>\n",
       "    </tr>\n",
       "    <tr>\n",
       "      <th>8913</th>\n",
       "      <td>11584580</td>\n",
       "      <td>21132419</td>\n",
       "      <td>3E0G76Z</td>\n",
       "      <td>1 days 01:46:00</td>\n",
       "      <td>Introduction of Nutritional Substance into Upp...</td>\n",
       "    </tr>\n",
       "    <tr>\n",
       "      <th>24491</th>\n",
       "      <td>14342500</td>\n",
       "      <td>25798399</td>\n",
       "      <td>0BC18ZZ</td>\n",
       "      <td>-1 days +07:21:00</td>\n",
       "      <td>Extirpation of Matter from Trachea, Via Natura...</td>\n",
       "    </tr>\n",
       "    <tr>\n",
       "      <th>51260</th>\n",
       "      <td>19445384</td>\n",
       "      <td>25197891</td>\n",
       "      <td>0DB64Z3</td>\n",
       "      <td>0 days 00:00:00</td>\n",
       "      <td>Excision of Stomach, Percutaneous Endoscopic A...</td>\n",
       "    </tr>\n",
       "  </tbody>\n",
       "</table>\n",
       "</div>"
      ],
      "text/plain": [
       "       subject_id   hadm_id icd_code proc_time_from_admit  \\\n",
       "35934    16400300  23186972  02110Z9      0 days 10:06:00   \n",
       "767      10148145  25168500  0W9930Z      0 days 01:50:00   \n",
       "8913     11584580  21132419  3E0G76Z      1 days 01:46:00   \n",
       "24491    14342500  25798399  0BC18ZZ    -1 days +07:21:00   \n",
       "51260    19445384  25197891  0DB64Z3      0 days 00:00:00   \n",
       "\n",
       "                                              long_title  \n",
       "35934  Bypass Coronary Artery, Two Arteries from Left...  \n",
       "767    Drainage of Right Pleural Cavity with Drainage...  \n",
       "8913   Introduction of Nutritional Substance into Upp...  \n",
       "24491  Extirpation of Matter from Trachea, Via Natura...  \n",
       "51260  Excision of Stomach, Percutaneous Endoscopic A...  "
      ]
     },
     "execution_count": 24,
     "metadata": {},
     "output_type": "execute_result"
    }
   ],
   "source": [
    "pcd_map = pd.read_csv('./mimiciv/2.2/hosp/d_icd_procedures.csv.gz', compression='gzip')\n",
    "pcd_map = pcd_map[pcd_map.icd_version==10]\n",
    "\n",
    "proc_new = pd.merge(proc, pcd_map, on='icd_code', how='left')\n",
    "proc_new = proc_new[['subject_id','hadm_id','icd_code','proc_time_from_admit','long_title']]\n",
    "proc_new = proc_new[proc_new.hadm_id.isin(cohort_new.hadm_id)]\n",
    "proc_new.sample(5)"
   ]
  },
  {
   "cell_type": "code",
   "execution_count": 25,
   "id": "e00e16fc",
   "metadata": {
    "scrolled": true
   },
   "outputs": [
    {
     "name": "stdout",
     "output_type": "stream",
     "text": [
      "<class 'pandas.core.frame.DataFrame'>\n",
      "Int64Index: 42834 entries, 0 to 54165\n",
      "Data columns (total 5 columns):\n",
      " #   Column                Non-Null Count  Dtype \n",
      "---  ------                --------------  ----- \n",
      " 0   subject_id            42834 non-null  int64 \n",
      " 1   hadm_id               42834 non-null  int64 \n",
      " 2   icd_code              42834 non-null  object\n",
      " 3   proc_time_from_admit  42834 non-null  object\n",
      " 4   long_title            42834 non-null  object\n",
      "dtypes: int64(2), object(3)\n",
      "memory usage: 2.0+ MB\n"
     ]
    }
   ],
   "source": [
    "proc_new.to_csv(save_dir + 'proc.csv')\n",
    "proc_new.info()"
   ]
  },
  {
   "cell_type": "markdown",
   "id": "b2bfbd0a",
   "metadata": {},
   "source": [
    "### Meds"
   ]
  },
  {
   "cell_type": "code",
   "execution_count": 26,
   "id": "d2889646",
   "metadata": {},
   "outputs": [
    {
     "name": "stdout",
     "output_type": "stream",
     "text": [
      "<class 'pandas.core.frame.DataFrame'>\n",
      "RangeIndex: 2575767 entries, 0 to 2575766\n",
      "Data columns (total 8 columns):\n",
      " #   Column                  Dtype \n",
      "---  ------                  ----- \n",
      " 0   subject_id              int64 \n",
      " 1   hadm_id                 int64 \n",
      " 2   starttime               object\n",
      " 3   stoptime                object\n",
      " 4   drug_name               object\n",
      " 5   start_hours_from_admit  object\n",
      " 6   stop_hours_from_admit   object\n",
      " 7   dose_val_rx             object\n",
      "dtypes: int64(2), object(6)\n",
      "memory usage: 157.2+ MB\n"
     ]
    }
   ],
   "source": [
    "meds = pd.read_csv(read_dir + 'preproc_med.csv.gz', compression='gzip')\n",
    "meds.info()"
   ]
  },
  {
   "cell_type": "code",
   "execution_count": 27,
   "id": "84d97dda",
   "metadata": {},
   "outputs": [
    {
     "data": {
      "text/html": [
       "<div>\n",
       "<style scoped>\n",
       "    .dataframe tbody tr th:only-of-type {\n",
       "        vertical-align: middle;\n",
       "    }\n",
       "\n",
       "    .dataframe tbody tr th {\n",
       "        vertical-align: top;\n",
       "    }\n",
       "\n",
       "    .dataframe thead th {\n",
       "        text-align: right;\n",
       "    }\n",
       "</style>\n",
       "<table border=\"1\" class=\"dataframe\">\n",
       "  <thead>\n",
       "    <tr style=\"text-align: right;\">\n",
       "      <th></th>\n",
       "      <th>subject_id</th>\n",
       "      <th>hadm_id</th>\n",
       "      <th>drug_name</th>\n",
       "      <th>start_hours_from_admit</th>\n",
       "      <th>stop_hours_from_admit</th>\n",
       "      <th>dose_val_rx</th>\n",
       "    </tr>\n",
       "  </thead>\n",
       "  <tbody>\n",
       "    <tr>\n",
       "      <th>920284</th>\n",
       "      <td>18570301</td>\n",
       "      <td>29951431</td>\n",
       "      <td>sodium chloride</td>\n",
       "      <td>3 days 14:25:00</td>\n",
       "      <td>4 days 13:25:00</td>\n",
       "      <td>500</td>\n",
       "    </tr>\n",
       "    <tr>\n",
       "      <th>325819</th>\n",
       "      <td>13125120</td>\n",
       "      <td>27625175</td>\n",
       "      <td>heparin sodium</td>\n",
       "      <td>0 days 03:49:00</td>\n",
       "      <td>7 days 13:49:00</td>\n",
       "      <td>5000</td>\n",
       "    </tr>\n",
       "    <tr>\n",
       "      <th>917925</th>\n",
       "      <td>18423421</td>\n",
       "      <td>26859165</td>\n",
       "      <td>sodium chloride</td>\n",
       "      <td>1 days 20:41:00</td>\n",
       "      <td>2 days 06:41:00</td>\n",
       "      <td>1000</td>\n",
       "    </tr>\n",
       "    <tr>\n",
       "      <th>1514691</th>\n",
       "      <td>13537167</td>\n",
       "      <td>25296167</td>\n",
       "      <td>aluminum hydroxide, magnesium hydroxide, and s...</td>\n",
       "      <td>0 days 02:12:00</td>\n",
       "      <td>0 days 07:12:00</td>\n",
       "      <td>15-30</td>\n",
       "    </tr>\n",
       "    <tr>\n",
       "      <th>344753</th>\n",
       "      <td>15306238</td>\n",
       "      <td>26937019</td>\n",
       "      <td>heparin sodium</td>\n",
       "      <td>2 days 03:59:00</td>\n",
       "      <td>4 days 03:59:00</td>\n",
       "      <td>5000</td>\n",
       "    </tr>\n",
       "  </tbody>\n",
       "</table>\n",
       "</div>"
      ],
      "text/plain": [
       "         subject_id   hadm_id  \\\n",
       "920284     18570301  29951431   \n",
       "325819     13125120  27625175   \n",
       "917925     18423421  26859165   \n",
       "1514691    13537167  25296167   \n",
       "344753     15306238  26937019   \n",
       "\n",
       "                                                 drug_name  \\\n",
       "920284                                     sodium chloride   \n",
       "325819                                      heparin sodium   \n",
       "917925                                     sodium chloride   \n",
       "1514691  aluminum hydroxide, magnesium hydroxide, and s...   \n",
       "344753                                      heparin sodium   \n",
       "\n",
       "        start_hours_from_admit stop_hours_from_admit dose_val_rx  \n",
       "920284         3 days 14:25:00       4 days 13:25:00         500  \n",
       "325819         0 days 03:49:00       7 days 13:49:00        5000  \n",
       "917925         1 days 20:41:00       2 days 06:41:00        1000  \n",
       "1514691        0 days 02:12:00       0 days 07:12:00       15-30  \n",
       "344753         2 days 03:59:00       4 days 03:59:00        5000  "
      ]
     },
     "execution_count": 27,
     "metadata": {},
     "output_type": "execute_result"
    }
   ],
   "source": [
    "meds_new = meds.copy()\n",
    "meds_new = meds_new[['subject_id','hadm_id','drug_name','start_hours_from_admit','stop_hours_from_admit','dose_val_rx']]\n",
    "meds_new = meds_new[meds_new.hadm_id.isin(cohort_new.hadm_id)]\n",
    "meds_new.sample(5)"
   ]
  },
  {
   "cell_type": "code",
   "execution_count": 28,
   "id": "ebf364ca",
   "metadata": {
    "scrolled": true
   },
   "outputs": [
    {
     "name": "stdout",
     "output_type": "stream",
     "text": [
      "<class 'pandas.core.frame.DataFrame'>\n",
      "Int64Index: 2102428 entries, 0 to 2575766\n",
      "Data columns (total 6 columns):\n",
      " #   Column                  Dtype \n",
      "---  ------                  ----- \n",
      " 0   subject_id              int64 \n",
      " 1   hadm_id                 int64 \n",
      " 2   drug_name               object\n",
      " 3   start_hours_from_admit  object\n",
      " 4   stop_hours_from_admit   object\n",
      " 5   dose_val_rx             object\n",
      "dtypes: int64(2), object(4)\n",
      "memory usage: 112.3+ MB\n"
     ]
    }
   ],
   "source": [
    "meds_new.to_csv(save_dir + 'meds.csv')\n",
    "meds_new.info()"
   ]
  },
  {
   "cell_type": "code",
   "execution_count": null,
   "id": "517b2676",
   "metadata": {},
   "outputs": [],
   "source": []
  }
 ],
 "metadata": {
  "hide_input": false,
  "kernelspec": {
   "display_name": "Python 3 (ipykernel)",
   "language": "python",
   "name": "python3"
  },
  "language_info": {
   "codemirror_mode": {
    "name": "ipython",
    "version": 3
   },
   "file_extension": ".py",
   "mimetype": "text/x-python",
   "name": "python",
   "nbconvert_exporter": "python",
   "pygments_lexer": "ipython3",
   "version": "3.9.7"
  }
 },
 "nbformat": 4,
 "nbformat_minor": 5
}
