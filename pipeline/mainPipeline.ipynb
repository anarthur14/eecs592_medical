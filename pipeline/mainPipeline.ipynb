{
 "cells": [
  {
   "cell_type": "code",
   "execution_count": 6,
   "id": "available-albany",
   "metadata": {},
   "outputs": [],
   "source": [
    "%load_ext autoreload\n",
    "%autoreload 2\n",
    "\n",
    "import os\n",
    "import sys\n",
    "import importlib\n",
    "import ipywidgets as widgets\n",
    "from pathlib import Path\n",
    "\n",
    "module_path='preprocessing'\n",
    "if module_path not in sys.path:\n",
    "    sys.path.append(module_path)\n",
    "\n",
    "module_path='utils'\n",
    "if module_path not in sys.path:\n",
    "    sys.path.append(module_path)\n",
    "\n",
    "root_dir = os.path.dirname(os.path.abspath('mainPipeline.ipynb'))\n",
    "\n",
    "import day_intervals_cohort_v2\n",
    "from day_intervals_cohort_v2 import *\n",
    "\n",
    "import feature_selection_hosp\n",
    "from feature_selection_hosp import *"
   ]
  },
  {
   "cell_type": "markdown",
   "id": "happy-tissue",
   "metadata": {},
   "source": [
    "## 1. DATA EXTRACTION\n",
    "Please run below cell to select option for cohort selection.\n",
    "The cohort will be svaed in **./data/cohort/**"
   ]
  },
  {
   "cell_type": "code",
   "execution_count": 2,
   "id": "structured-dimension",
   "metadata": {
    "tags": [
     "{",
     "\"tags\":",
     "[",
     "\"hide-input\"",
     "]",
     "}"
    ]
   },
   "outputs": [],
   "source": [
    "version = 'Version 2'\n",
    "radio_input4 = 'Phenotype'"
   ]
  },
  {
   "cell_type": "markdown",
   "id": "written-syndicate",
   "metadata": {},
   "source": [
    "### Refining Cohort and Prediction Task Definition\n",
    "\n",
    "Based on your current selection following block will provide option to further refine prediction task and cohort associated with it:\n",
    "\n",
    "- First you will refine the prediction task choosing from following options -\n",
    "    - **Phenotype Prediction** - You can select from four major chronic diseases to predict its future outcome\n",
    "\n",
    "        - Heart failure\n",
    "        - CAD (Coronary Artery Disease)\n",
    "        - CKD (Chronic Kidney Disease)\n",
    "        - COPD (Chronic obstructive pulmonary disease)\n",
    "\n",
    "- Second, you will choode whether to perfom above task using ICU or non-ICU admissions data\n",
    "\n",
    "- Third, you can refine the refine the cohort selection for any of the above choosen prediction tasks by including the admission samples admitted with particular chronic disease - \n",
    "    - Heart failure\n",
    "    - CAD (Coronary Artery Disease)\n",
    "    - CKD (Chronic Kidney Disease)\n",
    "    - COPD (Chronic obstructive pulmonary disease)\n",
    "    \n",
    "print(\"**Please run below cell to extract the cohort for selected options**\")"
   ]
  },
  {
   "cell_type": "code",
   "execution_count": 3,
   "id": "broke-spirituality",
   "metadata": {},
   "outputs": [
    {
     "data": {
      "application/vnd.jupyter.widget-view+json": {
       "model_id": "89c786ddaa2940079689bd82ba58159a",
       "version_major": 2,
       "version_minor": 0
      },
      "text/plain": [
       "RadioButtons(options=('Heart Failure in 30 days', 'CAD in 30 days', 'CKD in 30 days', 'COPD in 30 days'), valu…"
      ]
     },
     "metadata": {},
     "output_type": "display_data"
    },
    {
     "name": "stdout",
     "output_type": "stream",
     "text": [
      "Extract Data\n",
      "Please select if you want to perform choosen prediction task for a specific disease.\n"
     ]
    },
    {
     "data": {
      "application/vnd.jupyter.widget-view+json": {
       "model_id": "36b8619e21e34921a187aa2284ded276",
       "version_major": 2,
       "version_minor": 0
      },
      "text/plain": [
       "RadioButtons(options=('No Disease Filter', 'Heart Failure', 'CKD', 'CAD', 'COPD'), value='No Disease Filter')"
      ]
     },
     "metadata": {},
     "output_type": "display_data"
    }
   ],
   "source": [
    "radio_input2 = widgets.RadioButtons(options=['Heart Failure in 30 days','CAD in 30 days','CKD in 30 days','COPD in 30 days'],value='Heart Failure in 30 days')\n",
    "display(radio_input2)\n",
    "\n",
    "print(\"Extract Data\")\n",
    "radio_input1 = 'Non-ICU'\n",
    "\n",
    "print(\"Please select if you want to perform choosen prediction task for a specific disease.\")\n",
    "radio_input3 = widgets.RadioButtons(options=['No Disease Filter','Heart Failure','CKD','CAD','COPD'],value='No Disease Filter')\n",
    "display(radio_input3)"
   ]
  },
  {
   "cell_type": "code",
   "execution_count": 4,
   "id": "republican-freight",
   "metadata": {},
   "outputs": [
    {
     "name": "stdout",
     "output_type": "stream",
     "text": [
      "===========MIMIC-IV v2.0============\n",
      "EXTRACTING FOR: | NON-ICU | READMISSION DUE TO I50 | 30 | \n",
      "[ READMISSION DUE TO I50 ]\n"
     ]
    },
    {
     "name": "stderr",
     "output_type": "stream",
     "text": [
      "100%|██████████| 22581/22581 [03:33<00:00, 105.73it/s]\n"
     ]
    },
    {
     "name": "stdout",
     "output_type": "stream",
     "text": [
      "[ READMISSION LABELS FINISHED ]\n",
      "[ COHORT SUCCESSFULLY SAVED ]\n",
      "[ SUMMARY SUCCESSFULLY SAVED ]\n",
      "Readmission FOR Non-ICU DATA\n",
      "# Admission Records: 58079\n",
      "# Patients: 22581\n",
      "# Positive cases: 11867\n",
      "# Negative cases: 46212\n"
     ]
    }
   ],
   "source": [
    "disease_label=\"\"\n",
    "time=0\n",
    "\n",
    "if radio_input2.value=='Heart Failure in 30 days':\n",
    "    label='Readmission'\n",
    "    time=30\n",
    "    disease_label='I50'\n",
    "elif radio_input2.value=='CAD in 30 days':\n",
    "    label='Readmission'\n",
    "    time=30\n",
    "    disease_label='I25'\n",
    "elif radio_input2.value=='CKD in 30 days':\n",
    "    label='Readmission'\n",
    "    time=30\n",
    "    disease_label='N18'\n",
    "elif radio_input2.value=='COPD in 30 days':\n",
    "    label='Readmission'\n",
    "    time=30\n",
    "    disease_label='J44'\n",
    "    \n",
    "data_icu=False\n",
    "data_mort=label==\"Mortality\"\n",
    "data_admn=label=='Readmission'\n",
    "data_los=label=='Length of Stay'\n",
    "        \n",
    "if (radio_input3.value==\"Heart Failure\"):\n",
    "    icd_code='I50'\n",
    "elif (radio_input3.value==\"CKD\"):\n",
    "    icd_code='N18'\n",
    "elif (radio_input3.value==\"COPD\"):\n",
    "    icd_code='J44'\n",
    "elif (radio_input3.value==\"CAD\"):\n",
    "    icd_code='I25'\n",
    "else:\n",
    "    icd_code='No Disease Filter'\n",
    "\n",
    "version_path=\"mimiciv/2.2\"\n",
    "cohort_output = day_intervals_cohort_v2.extract_data(radio_input1,label,time,icd_code, root_dir,disease_label)"
   ]
  },
  {
   "cell_type": "markdown",
   "id": "interstate-stadium",
   "metadata": {},
   "source": [
    "## 2. FEATURE SELECTION\n",
    "Features available for Non-ICU data -\n",
    "- Diagnosis (https://mimic.mit.edu/docs/iv/modules/hosp/diagnoses_icd/)\n",
    "- Procedures (https://mimic.mit.edu/docs/iv/modules/hosp/procedures_icd/)\n",
    "- Medications (https://mimic.mit.edu/docs/iv/modules/hosp/prescriptions/)\n",
    "- Lab Events (https://mimic.mit.edu/docs/iv/modules/hosp/labevents/)\n",
    "\n",
    "All features will be saved in **./data/features/**\n",
    "\n",
    "**Please run below cell to select features**"
   ]
  },
  {
   "cell_type": "code",
   "execution_count": 8,
   "id": "native-covering",
   "metadata": {
    "scrolled": true
   },
   "outputs": [
    {
     "name": "stdout",
     "output_type": "stream",
     "text": [
      "[EXTRACTING DIAGNOSIS DATA]\n"
     ]
    },
    {
     "name": "stderr",
     "output_type": "stream",
     "text": [
      "100%|██████████| 5011/5011 [00:11<00:00, 429.98it/s]\n"
     ]
    },
    {
     "name": "stdout",
     "output_type": "stream",
     "text": [
      "# unique ICD-9 codes 5011\n",
      "# unique ICD-10 codes 7882\n",
      "# unique ICD-10 codes (After converting ICD-9 to ICD-10) 8195\n",
      "# unique ICD-10 codes (After clinical gruping ICD-10 codes) 1346\n",
      "# Admissions:   58079\n",
      "[SUCCESSFULLY SAVED DIAGNOSIS DATA]\n",
      "[EXTRACTING PROCEDURES DATA]\n",
      "# Unique ICD9 Procedures:   1331\n",
      "# Unique ICD10 Procedures:  3757\n",
      "\n",
      "Value counts of each ICD version:\n",
      " 9     65570\n",
      "10    40698\n",
      "Name: icd_version, dtype: int64\n",
      "# Admissions:   32486\n",
      "Total number of rows:  106268\n",
      "[SUCCESSFULLY SAVED PROCEDURES DATA]\n",
      "[EXTRACTING MEDICATIONS DATA]\n",
      "Number of unique type of drug:  1790\n",
      "Number of unique type of drug (after grouping to use Non propietary names):  919\n",
      "Total number of rows:  1843549\n",
      "# Admissions:   56606\n",
      "[SUCCESSFULLY SAVED MEDICATIONS DATA]\n",
      "[EXTRACTING LABS DATA]\n"
     ]
    },
    {
     "name": "stderr",
     "output_type": "stream",
     "text": [
      "0it [00:00, ?it/s]/sw/pkgs/arc/python3.9-anaconda/2021.11/lib/python3.9/site-packages/pandas/core/indexing.py:1817: SettingWithCopyWarning: \n",
      "A value is trying to be set on a copy of a slice from a DataFrame.\n",
      "Try using .loc[row_indexer,col_indexer] = value instead\n",
      "\n",
      "See the caveats in the documentation: https://pandas.pydata.org/pandas-docs/stable/user_guide/indexing.html#returning-a-view-versus-a-copy\n",
      "  self._setitem_single_column(loc, value, pi)\n",
      "1it [07:15, 435.24s/it]/sw/pkgs/arc/python3.9-anaconda/2021.11/lib/python3.9/site-packages/pandas/core/indexing.py:1817: SettingWithCopyWarning: \n",
      "A value is trying to be set on a copy of a slice from a DataFrame.\n",
      "Try using .loc[row_indexer,col_indexer] = value instead\n",
      "\n",
      "See the caveats in the documentation: https://pandas.pydata.org/pandas-docs/stable/user_guide/indexing.html#returning-a-view-versus-a-copy\n",
      "  self._setitem_single_column(loc, value, pi)\n",
      "2it [15:18, 463.47s/it]/sw/pkgs/arc/python3.9-anaconda/2021.11/lib/python3.9/site-packages/pandas/core/indexing.py:1817: SettingWithCopyWarning: \n",
      "A value is trying to be set on a copy of a slice from a DataFrame.\n",
      "Try using .loc[row_indexer,col_indexer] = value instead\n",
      "\n",
      "See the caveats in the documentation: https://pandas.pydata.org/pandas-docs/stable/user_guide/indexing.html#returning-a-view-versus-a-copy\n",
      "  self._setitem_single_column(loc, value, pi)\n",
      "3it [23:48, 484.77s/it]/sw/pkgs/arc/python3.9-anaconda/2021.11/lib/python3.9/site-packages/pandas/core/indexing.py:1817: SettingWithCopyWarning: \n",
      "A value is trying to be set on a copy of a slice from a DataFrame.\n",
      "Try using .loc[row_indexer,col_indexer] = value instead\n",
      "\n",
      "See the caveats in the documentation: https://pandas.pydata.org/pandas-docs/stable/user_guide/indexing.html#returning-a-view-versus-a-copy\n",
      "  self._setitem_single_column(loc, value, pi)\n",
      "4it [31:36, 478.31s/it]/sw/pkgs/arc/python3.9-anaconda/2021.11/lib/python3.9/site-packages/pandas/core/indexing.py:1817: SettingWithCopyWarning: \n",
      "A value is trying to be set on a copy of a slice from a DataFrame.\n",
      "Try using .loc[row_indexer,col_indexer] = value instead\n",
      "\n",
      "See the caveats in the documentation: https://pandas.pydata.org/pandas-docs/stable/user_guide/indexing.html#returning-a-view-versus-a-copy\n",
      "  self._setitem_single_column(loc, value, pi)\n",
      "5it [38:57, 464.75s/it]/sw/pkgs/arc/python3.9-anaconda/2021.11/lib/python3.9/site-packages/pandas/core/indexing.py:1817: SettingWithCopyWarning: \n",
      "A value is trying to be set on a copy of a slice from a DataFrame.\n",
      "Try using .loc[row_indexer,col_indexer] = value instead\n",
      "\n",
      "See the caveats in the documentation: https://pandas.pydata.org/pandas-docs/stable/user_guide/indexing.html#returning-a-view-versus-a-copy\n",
      "  self._setitem_single_column(loc, value, pi)\n",
      "6it [45:47, 446.04s/it]/sw/pkgs/arc/python3.9-anaconda/2021.11/lib/python3.9/site-packages/pandas/core/indexing.py:1817: SettingWithCopyWarning: \n",
      "A value is trying to be set on a copy of a slice from a DataFrame.\n",
      "Try using .loc[row_indexer,col_indexer] = value instead\n",
      "\n",
      "See the caveats in the documentation: https://pandas.pydata.org/pandas-docs/stable/user_guide/indexing.html#returning-a-view-versus-a-copy\n",
      "  self._setitem_single_column(loc, value, pi)\n",
      "7it [52:28, 431.28s/it]/sw/pkgs/arc/python3.9-anaconda/2021.11/lib/python3.9/site-packages/pandas/core/indexing.py:1817: SettingWithCopyWarning: \n",
      "A value is trying to be set on a copy of a slice from a DataFrame.\n",
      "Try using .loc[row_indexer,col_indexer] = value instead\n",
      "\n",
      "See the caveats in the documentation: https://pandas.pydata.org/pandas-docs/stable/user_guide/indexing.html#returning-a-view-versus-a-copy\n",
      "  self._setitem_single_column(loc, value, pi)\n",
      "8it [59:37, 430.68s/it]/sw/pkgs/arc/python3.9-anaconda/2021.11/lib/python3.9/site-packages/pandas/core/indexing.py:1817: SettingWithCopyWarning: \n",
      "A value is trying to be set on a copy of a slice from a DataFrame.\n",
      "Try using .loc[row_indexer,col_indexer] = value instead\n",
      "\n",
      "See the caveats in the documentation: https://pandas.pydata.org/pandas-docs/stable/user_guide/indexing.html#returning-a-view-versus-a-copy\n",
      "  self._setitem_single_column(loc, value, pi)\n",
      "9it [1:07:03, 435.47s/it]/sw/pkgs/arc/python3.9-anaconda/2021.11/lib/python3.9/site-packages/pandas/core/indexing.py:1817: SettingWithCopyWarning: \n",
      "A value is trying to be set on a copy of a slice from a DataFrame.\n",
      "Try using .loc[row_indexer,col_indexer] = value instead\n",
      "\n",
      "See the caveats in the documentation: https://pandas.pydata.org/pandas-docs/stable/user_guide/indexing.html#returning-a-view-versus-a-copy\n",
      "  self._setitem_single_column(loc, value, pi)\n",
      "10it [1:14:42, 442.75s/it]/sw/pkgs/arc/python3.9-anaconda/2021.11/lib/python3.9/site-packages/pandas/core/indexing.py:1817: SettingWithCopyWarning: \n",
      "A value is trying to be set on a copy of a slice from a DataFrame.\n",
      "Try using .loc[row_indexer,col_indexer] = value instead\n",
      "\n",
      "See the caveats in the documentation: https://pandas.pydata.org/pandas-docs/stable/user_guide/indexing.html#returning-a-view-versus-a-copy\n",
      "  self._setitem_single_column(loc, value, pi)\n",
      "11it [1:22:16, 446.08s/it]/sw/pkgs/arc/python3.9-anaconda/2021.11/lib/python3.9/site-packages/pandas/core/indexing.py:1817: SettingWithCopyWarning: \n",
      "A value is trying to be set on a copy of a slice from a DataFrame.\n",
      "Try using .loc[row_indexer,col_indexer] = value instead\n",
      "\n",
      "See the caveats in the documentation: https://pandas.pydata.org/pandas-docs/stable/user_guide/indexing.html#returning-a-view-versus-a-copy\n",
      "  self._setitem_single_column(loc, value, pi)\n",
      "12it [1:28:44, 443.74s/it]\n"
     ]
    },
    {
     "name": "stdout",
     "output_type": "stream",
     "text": [
      "# Itemid:  537\n",
      "# Admissions:  57662\n",
      "Total number of rows:  14556183\n",
      "[SUCCESSFULLY SAVED LABS DATA]\n"
     ]
    }
   ],
   "source": [
    "diag_flag=True\n",
    "lab_flag=True\n",
    "proc_flag=True\n",
    "med_flag=True\n",
    "feature_nonicu(cohort_output, version_path,diag_flag,lab_flag,proc_flag,med_flag)"
   ]
  },
  {
   "cell_type": "markdown",
   "id": "aboriginal-upset",
   "metadata": {},
   "source": [
    "## 3. CLINICAL GROUPING\n",
    "Below you will have option to clinically group diagnosis and medications.\n",
    "Grouping medical codes will reduce dimensional space of features.\n",
    "\n",
    "Default options selected below will group medical codes to reduce feature dimension space.\n",
    "\n",
    "**Please run below cell to select preprocessing for diferent features**"
   ]
  },
  {
   "cell_type": "code",
   "execution_count": 9,
   "id": "partial-manhattan",
   "metadata": {},
   "outputs": [
    {
     "name": "stdout",
     "output_type": "stream",
     "text": [
      "Do you want to group ICD 10 DIAG codes ?\n"
     ]
    },
    {
     "data": {
      "application/vnd.jupyter.widget-view+json": {
       "model_id": "bb0080f151f94753ac431156ad65741d",
       "version_major": 2,
       "version_minor": 0
      },
      "text/plain": [
       "RadioButtons(index=2, layout=Layout(width='100%'), options=('Keep both ICD-9 and ICD-10 codes', 'Convert ICD-9…"
      ]
     },
     "metadata": {},
     "output_type": "display_data"
    },
    {
     "name": "stdout",
     "output_type": "stream",
     "text": [
      "Do you want to group Medication codes to use Non propietary names?\n"
     ]
    },
    {
     "data": {
      "application/vnd.jupyter.widget-view+json": {
       "model_id": "f250fcb8743e4937ac86c59a254d8e1a",
       "version_major": 2,
       "version_minor": 0
      },
      "text/plain": [
       "RadioButtons(layout=Layout(width='100%'), options=('Yes', 'No'), value='Yes')"
      ]
     },
     "metadata": {},
     "output_type": "display_data"
    },
    {
     "name": "stdout",
     "output_type": "stream",
     "text": [
      "Which ICD codes for Procedures you want to keep in data?\n"
     ]
    },
    {
     "data": {
      "application/vnd.jupyter.widget-view+json": {
       "model_id": "0f81949da7974664862f90c2f7bb7313",
       "version_major": 2,
       "version_minor": 0
      },
      "text/plain": [
       "RadioButtons(index=1, layout=Layout(width='100%'), options=('ICD-9 and ICD-10', 'ICD-10'), value='ICD-10')"
      ]
     },
     "metadata": {},
     "output_type": "display_data"
    },
    {
     "name": "stdout",
     "output_type": "stream",
     "text": [
      "**Please run below cell to perform feature preprocessing**\n"
     ]
    }
   ],
   "source": [
    "if diag_flag:\n",
    "    print(\"Do you want to group ICD 10 DIAG codes ?\")\n",
    "    radio_input4 = widgets.RadioButtons(options=['Keep both ICD-9 and ICD-10 codes','Convert ICD-9 to ICD-10 codes','Convert ICD-9 to ICD-10 and group ICD-10 codes'],value='Convert ICD-9 to ICD-10 and group ICD-10 codes',layout={'width': '100%'})\n",
    "    display(radio_input4)     \n",
    "if med_flag:\n",
    "    print(\"Do you want to group Medication codes to use Non propietary names?\")\n",
    "    radio_input5 = widgets.RadioButtons(options=['Yes','No'],value='Yes',layout={'width': '100%'})\n",
    "    display(radio_input5)\n",
    "if proc_flag:\n",
    "    print(\"Which ICD codes for Procedures you want to keep in data?\")\n",
    "    radio_input6 = widgets.RadioButtons(options=['ICD-9 and ICD-10','ICD-10'],value='ICD-10',layout={'width': '100%'})\n",
    "    display(radio_input6)\n",
    "print(\"**Please run below cell to perform feature preprocessing**\")"
   ]
  },
  {
   "cell_type": "code",
   "execution_count": 10,
   "id": "descending-symphony",
   "metadata": {},
   "outputs": [
    {
     "name": "stdout",
     "output_type": "stream",
     "text": [
      "[PROCESSING DIAGNOSIS DATA]\n",
      "Total number of rows 1016267\n",
      "[SUCCESSFULLY SAVED DIAGNOSIS DATA]\n",
      "[PROCESSING MEDICATIONS DATA]\n"
     ]
    },
    {
     "name": "stderr",
     "output_type": "stream",
     "text": [
      "/tmp/ipykernel_2501519/953078655.py:10: DtypeWarning: Columns (8) have mixed types.Specify dtype option on import or set low_memory=False.\n",
      "  preprocess_features_hosp(cohort_output, diag_flag,proc_flag,med_flag,False,group_diag,group_med,group_proc,False,False,0,0)\n"
     ]
    },
    {
     "name": "stdout",
     "output_type": "stream",
     "text": [
      "Total number of rows 1842600\n",
      "[SUCCESSFULLY SAVED MEDICATIONS DATA]\n",
      "[PROCESSING PROCEDURES DATA]\n",
      "Total number of rows 40698\n",
      "[SUCCESSFULLY SAVED PROCEDURES DATA]\n"
     ]
    }
   ],
   "source": [
    "group_diag=False\n",
    "group_med=False\n",
    "group_proc=False\n",
    "if diag_flag:\n",
    "    group_diag=radio_input4.value\n",
    "if med_flag:\n",
    "    group_med=radio_input5.value\n",
    "if proc_flag:\n",
    "    group_proc=radio_input6.value\n",
    "preprocess_features_hosp(cohort_output, diag_flag,proc_flag,med_flag,False,group_diag,group_med,group_proc,False,False,0,0)"
   ]
  },
  {
   "cell_type": "markdown",
   "id": "immediate-captain",
   "metadata": {},
   "source": [
    "### 4. SUMMARY OF FEATURES\n",
    "\n",
    "This step will generate summary of all features extracted so far.<br>\n",
    "It will save summary files in **./data/summary/**<br>\n",
    "- These files provide summary about **mean frequency** of medical codes per admission.<br>\n",
    "- It also provides **total occurrence count** of each medical code.<br>\n",
    "- For labs and chart events it will also provide <br>**missing %** which tells how many rows for a certain medical code has missing value.\n",
    "\n",
    "Please use this information to further refine your cohort by selecting <br>which medical codes in each feature you want to keep and <br>which codes you would like to remove for downstream analysis tasks.\n",
    "\n",
    "**Please run below cell to generate summary files**"
   ]
  },
  {
   "cell_type": "code",
   "execution_count": 11,
   "id": "thick-residence",
   "metadata": {},
   "outputs": [
    {
     "name": "stdout",
     "output_type": "stream",
     "text": [
      "[GENERATING FEATURE SUMMARY]\n"
     ]
    },
    {
     "name": "stderr",
     "output_type": "stream",
     "text": [
      "/tmp/ipykernel_2501519/1553721925.py:1: DtypeWarning: Columns (7) have mixed types.Specify dtype option on import or set low_memory=False.\n",
      "  generate_summary_hosp(diag_flag,proc_flag,med_flag,lab_flag)\n",
      "2it [00:15,  7.93s/it]\n"
     ]
    },
    {
     "name": "stdout",
     "output_type": "stream",
     "text": [
      "[SUCCESSFULLY SAVED FEATURE SUMMARY]\n"
     ]
    }
   ],
   "source": [
    "generate_summary_hosp(diag_flag,proc_flag,med_flag,lab_flag)"
   ]
  },
  {
   "cell_type": "markdown",
   "id": "northern-architecture",
   "metadata": {},
   "source": [
    "## 5. Feature Selection\n",
    "\n",
    "based on the files generated in previous step and other infromation gathered by you,<br>\n",
    "Please select which medical codes you want to include in this study.\n",
    "\n",
    "Please run below cell to to select options for which features you want to perform feature selection.\n",
    "\n",
    "- Select **Yes** if you want to select a subset of medical codes for that feature and<br> **edit** the corresponding feature file for it.\n",
    "- Select **No** if you want to keep all the codes in a feature."
   ]
  },
  {
   "cell_type": "code",
   "execution_count": 12,
   "id": "immediate-seafood",
   "metadata": {},
   "outputs": [
    {
     "name": "stdout",
     "output_type": "stream",
     "text": [
      "Do you want to do Feature Selection for Diagnosis \n",
      " (If yes, please edit list of codes in ./data/summary/diag_features.csv)\n"
     ]
    },
    {
     "data": {
      "application/vnd.jupyter.widget-view+json": {
       "model_id": "c70690309ee24173b24d98496dbd0d09",
       "version_major": 2,
       "version_minor": 0
      },
      "text/plain": [
       "RadioButtons(index=1, options=('Yes', 'No'), value='No')"
      ]
     },
     "metadata": {},
     "output_type": "display_data"
    },
    {
     "name": "stdout",
     "output_type": "stream",
     "text": [
      "Do you want to do Feature Selection for Medication \n",
      " (If yes, please edit list of codes in ./data/summary/med_features.csv)\n"
     ]
    },
    {
     "data": {
      "application/vnd.jupyter.widget-view+json": {
       "model_id": "1343c6a0281b46c6946815d89cbbfdb6",
       "version_major": 2,
       "version_minor": 0
      },
      "text/plain": [
       "RadioButtons(index=1, options=('Yes', 'No'), value='No')"
      ]
     },
     "metadata": {},
     "output_type": "display_data"
    },
    {
     "name": "stdout",
     "output_type": "stream",
     "text": [
      "Do you want to do Feature Selection for Procedures \n",
      " (If yes, please edit list of codes in ./data/summary/proc_features.csv)\n"
     ]
    },
    {
     "data": {
      "application/vnd.jupyter.widget-view+json": {
       "model_id": "6ab783bb68c742938b6707e842c77a81",
       "version_major": 2,
       "version_minor": 0
      },
      "text/plain": [
       "RadioButtons(index=1, options=('Yes', 'No'), value='No')"
      ]
     },
     "metadata": {},
     "output_type": "display_data"
    },
    {
     "name": "stdout",
     "output_type": "stream",
     "text": [
      "Do you want to do Feature Selection for Labs \n",
      " (If yes, please edit list of codes in ./data/summary/lab_features.csv)\n"
     ]
    },
    {
     "data": {
      "application/vnd.jupyter.widget-view+json": {
       "model_id": "947ce175d6694ea492a0b32bff7000ef",
       "version_major": 2,
       "version_minor": 0
      },
      "text/plain": [
       "RadioButtons(index=1, options=('Yes', 'No'), value='No')"
      ]
     },
     "metadata": {},
     "output_type": "display_data"
    },
    {
     "name": "stdout",
     "output_type": "stream",
     "text": [
      "**Please run below cell to perform feature selection**\n"
     ]
    }
   ],
   "source": [
    "if diag_flag:\n",
    "    print(\"Do you want to do Feature Selection for Diagnosis \\n (If yes, please edit list of codes in ./data/summary/diag_features.csv)\")\n",
    "    radio_input4 = widgets.RadioButtons(options=['Yes','No'],value='No')\n",
    "    display(radio_input4)         \n",
    "if med_flag:\n",
    "    print(\"Do you want to do Feature Selection for Medication \\n (If yes, please edit list of codes in ./data/summary/med_features.csv)\")\n",
    "    radio_input5 = widgets.RadioButtons(options=['Yes','No'],value='No')\n",
    "    display(radio_input5)   \n",
    "if proc_flag:\n",
    "    print(\"Do you want to do Feature Selection for Procedures \\n (If yes, please edit list of codes in ./data/summary/proc_features.csv)\")\n",
    "    radio_input6 = widgets.RadioButtons(options=['Yes','No'],value='No')\n",
    "    display(radio_input6)   \n",
    "if lab_flag:\n",
    "    print(\"Do you want to do Feature Selection for Labs \\n (If yes, please edit list of codes in ./data/summary/lab_features.csv)\")\n",
    "    radio_input7 = widgets.RadioButtons(options=['Yes','No'],value='No')\n",
    "    display(radio_input7)   \n",
    "print(\"**Please run below cell to perform feature selection**\")"
   ]
  },
  {
   "cell_type": "code",
   "execution_count": 13,
   "id": "perceived-python",
   "metadata": {},
   "outputs": [],
   "source": [
    "select_diag=False\n",
    "select_med=False\n",
    "select_proc=False\n",
    "select_lab=False\n",
    "select_out=False\n",
    "select_chart=False\n",
    "\n",
    "if diag_flag:\n",
    "    select_diag=radio_input4.value == 'Yes'\n",
    "if med_flag:\n",
    "    select_med=radio_input5.value == 'Yes'\n",
    "if proc_flag:\n",
    "    select_proc=radio_input6.value == 'Yes'\n",
    "if lab_flag:\n",
    "    select_lab=radio_input7.value == 'Yes'\n",
    "features_selection_hosp(cohort_output, diag_flag,proc_flag,med_flag,lab_flag,select_diag,select_med,select_proc,select_lab)"
   ]
  },
  {
   "cell_type": "markdown",
   "id": "comfortable-director",
   "metadata": {},
   "source": [
    "## 6. CLEANING OF FEATURES\n",
    "Below you will have option to to clean lab and chart events by performing outlier removal and unit conversion.\n",
    "\n",
    "Outlier removal is performed to remove values higher than selected **right threshold** percentile and lower than selected **left threshold** percentile among all values for each itemid. \n",
    "\n",
    "**Please run below cell to select preprocessing for diferent features**"
   ]
  },
  {
   "cell_type": "code",
   "execution_count": 14,
   "id": "moderate-forum",
   "metadata": {},
   "outputs": [
    {
     "name": "stdout",
     "output_type": "stream",
     "text": [
      "Outlier removal in values of lab events ?\n"
     ]
    },
    {
     "data": {
      "application/vnd.jupyter.widget-view+json": {
       "model_id": "7f2360c29454403a8facaf8040286053",
       "version_major": 2,
       "version_minor": 0
      },
      "text/plain": [
       "RadioButtons(layout=Layout(height='40px', width='100%'), options=('No outlier detection', 'Impute Outlier (def…"
      ]
     },
     "metadata": {},
     "output_type": "display_data"
    },
    {
     "data": {
      "application/vnd.jupyter.widget-view+json": {
       "model_id": "d19416db60ea4d2bb69c718cddfa0f83",
       "version_major": 2,
       "version_minor": 0
      },
      "text/plain": [
       "HBox(children=(Label(value='Right Outlier Threshold', layout=Layout(width='150px')), IntSlider(value=98, layou…"
      ]
     },
     "metadata": {},
     "output_type": "display_data"
    },
    {
     "data": {
      "application/vnd.jupyter.widget-view+json": {
       "model_id": "f114e2a1293c48839ac29471504bc553",
       "version_major": 2,
       "version_minor": 0
      },
      "text/plain": [
       "HBox(children=(Label(value='Left Outlier Threshold', layout=Layout(width='150px')), IntSlider(value=0, layout=…"
      ]
     },
     "metadata": {},
     "output_type": "display_data"
    },
    {
     "name": "stdout",
     "output_type": "stream",
     "text": [
      "**Please run below cell to perform feature preprocessing**\n"
     ]
    }
   ],
   "source": [
    "if lab_flag:\n",
    "    print(\"Outlier removal in values of lab events ?\")\n",
    "    layout = widgets.Layout(width='100%', height='40px') #set width and height\n",
    "\n",
    "    radio_input7 = widgets.RadioButtons(options=['No outlier detection','Impute Outlier (default:98)','Remove outliers (default:98)'],value='No outlier detection',layout=layout)\n",
    "    display(radio_input7)\n",
    "    outlier=widgets.IntSlider(\n",
    "    value=98,\n",
    "    min=90,\n",
    "    max=99,\n",
    "    step=1,\n",
    "    disabled=False,layout={'width': '100%'}\n",
    "    )\n",
    "    left_outlier=widgets.IntSlider(\n",
    "    value=0,\n",
    "    min=0,\n",
    "    max=10,\n",
    "    step=1,\n",
    "    disabled=False,layout={'width': '100%'}\n",
    "    )\n",
    "    #display(oulier)\n",
    "    display(widgets.HBox([widgets.Label('Right Outlier Threshold',layout={'width': '150px'}), outlier]))\n",
    "    display(widgets.HBox([widgets.Label('Left Outlier Threshold',layout={'width': '150px'}), left_outlier]))\n",
    "print(\"**Please run below cell to perform feature preprocessing**\")"
   ]
  },
  {
   "cell_type": "code",
   "execution_count": 15,
   "id": "impossible-mailman",
   "metadata": {},
   "outputs": [],
   "source": [
    "thresh=0\n",
    "if lab_flag:\n",
    "    clean_lab=radio_input7.value!='No outlier detection'\n",
    "    impute_outlier=radio_input7.value=='Impute Outlier (default:98)'\n",
    "    thresh=outlier.value\n",
    "    left_thresh=left_outlier.value\n",
    "preprocess_features_hosp(cohort_output, False,False,False,lab_flag,False,False,False,clean_lab,impute_outlier,thresh,left_thresh)"
   ]
  },
  {
   "cell_type": "markdown",
   "id": "49ea94b9",
   "metadata": {},
   "source": [
    "## 7. Add diag names and lab names"
   ]
  },
  {
   "cell_type": "code",
   "execution_count": 99,
   "id": "f5bfd067",
   "metadata": {},
   "outputs": [],
   "source": [
    "read_dir = './data/features/'\n",
    "save_dir = './processed/'"
   ]
  },
  {
   "cell_type": "markdown",
   "id": "9c684051",
   "metadata": {},
   "source": [
    "### cohort"
   ]
  },
  {
   "cell_type": "code",
   "execution_count": 168,
   "id": "21c4b890",
   "metadata": {},
   "outputs": [
    {
     "name": "stdout",
     "output_type": "stream",
     "text": [
      "<class 'pandas.core.frame.DataFrame'>\n",
      "RangeIndex: 58079 entries, 0 to 58078\n",
      "Data columns (total 9 columns):\n",
      " #   Column      Non-Null Count  Dtype  \n",
      "---  ------      --------------  -----  \n",
      " 0   subject_id  58079 non-null  float64\n",
      " 1   hadm_id     58079 non-null  float64\n",
      " 2   admittime   58079 non-null  object \n",
      " 3   dischtime   58079 non-null  object \n",
      " 4   Age         58079 non-null  float64\n",
      " 5   gender      58079 non-null  object \n",
      " 6   ethnicity   58079 non-null  object \n",
      " 7   insurance   58079 non-null  object \n",
      " 8   label       58079 non-null  int64  \n",
      "dtypes: float64(3), int64(1), object(5)\n",
      "memory usage: 4.0+ MB\n"
     ]
    }
   ],
   "source": [
    "cohort = pd.read_csv('./data/cohort/cohort_non-icu_readmission_30_I50.csv.gz', compression='gzip')\n",
    "cohort.info()"
   ]
  },
  {
   "cell_type": "code",
   "execution_count": 169,
   "id": "3f0c4bde",
   "metadata": {},
   "outputs": [
    {
     "name": "stdout",
     "output_type": "stream",
     "text": [
      "train         30399\n",
      "test          10148\n",
      "validation    10129\n",
      "Name: split, dtype: int64\n"
     ]
    },
    {
     "data": {
      "text/html": [
       "<div>\n",
       "<style scoped>\n",
       "    .dataframe tbody tr th:only-of-type {\n",
       "        vertical-align: middle;\n",
       "    }\n",
       "\n",
       "    .dataframe tbody tr th {\n",
       "        vertical-align: top;\n",
       "    }\n",
       "\n",
       "    .dataframe thead th {\n",
       "        text-align: right;\n",
       "    }\n",
       "</style>\n",
       "<table border=\"1\" class=\"dataframe\">\n",
       "  <thead>\n",
       "    <tr style=\"text-align: right;\">\n",
       "      <th></th>\n",
       "      <th>subject_id</th>\n",
       "      <th>hadm_id</th>\n",
       "      <th>admittime</th>\n",
       "      <th>dischtime</th>\n",
       "      <th>gender</th>\n",
       "      <th>ethnicity</th>\n",
       "      <th>insurance</th>\n",
       "      <th>label</th>\n",
       "      <th>split</th>\n",
       "    </tr>\n",
       "  </thead>\n",
       "  <tbody>\n",
       "    <tr>\n",
       "      <th>42202</th>\n",
       "      <td>12494390.0</td>\n",
       "      <td>22959591.0</td>\n",
       "      <td>2152-01-09 20:53:00</td>\n",
       "      <td>2152-01-15 18:48:00</td>\n",
       "      <td>M</td>\n",
       "      <td>BLACK/AFRICAN AMERICAN</td>\n",
       "      <td>Other</td>\n",
       "      <td>0</td>\n",
       "      <td>train</td>\n",
       "    </tr>\n",
       "    <tr>\n",
       "      <th>9266</th>\n",
       "      <td>15064880.0</td>\n",
       "      <td>21603908.0</td>\n",
       "      <td>2176-05-11 16:36:00</td>\n",
       "      <td>2176-05-13 16:45:00</td>\n",
       "      <td>F</td>\n",
       "      <td>WHITE</td>\n",
       "      <td>Medicare</td>\n",
       "      <td>0</td>\n",
       "      <td>train</td>\n",
       "    </tr>\n",
       "    <tr>\n",
       "      <th>43874</th>\n",
       "      <td>13307398.0</td>\n",
       "      <td>20464684.0</td>\n",
       "      <td>2142-06-05 12:01:00</td>\n",
       "      <td>2142-06-07 18:00:00</td>\n",
       "      <td>M</td>\n",
       "      <td>BLACK/AFRICAN AMERICAN</td>\n",
       "      <td>Medicare</td>\n",
       "      <td>0</td>\n",
       "      <td>train</td>\n",
       "    </tr>\n",
       "    <tr>\n",
       "      <th>3472</th>\n",
       "      <td>18421025.0</td>\n",
       "      <td>21977383.0</td>\n",
       "      <td>2136-01-09 20:42:00</td>\n",
       "      <td>2136-02-01 15:30:00</td>\n",
       "      <td>F</td>\n",
       "      <td>WHITE</td>\n",
       "      <td>Other</td>\n",
       "      <td>0</td>\n",
       "      <td>test</td>\n",
       "    </tr>\n",
       "    <tr>\n",
       "      <th>64</th>\n",
       "      <td>10163823.0</td>\n",
       "      <td>22018958.0</td>\n",
       "      <td>2166-02-22 18:16:00</td>\n",
       "      <td>2166-03-02 17:30:00</td>\n",
       "      <td>F</td>\n",
       "      <td>WHITE</td>\n",
       "      <td>Other</td>\n",
       "      <td>0</td>\n",
       "      <td>train</td>\n",
       "    </tr>\n",
       "  </tbody>\n",
       "</table>\n",
       "</div>"
      ],
      "text/plain": [
       "       subject_id     hadm_id            admittime            dischtime  \\\n",
       "42202  12494390.0  22959591.0  2152-01-09 20:53:00  2152-01-15 18:48:00   \n",
       "9266   15064880.0  21603908.0  2176-05-11 16:36:00  2176-05-13 16:45:00   \n",
       "43874  13307398.0  20464684.0  2142-06-05 12:01:00  2142-06-07 18:00:00   \n",
       "3472   18421025.0  21977383.0  2136-01-09 20:42:00  2136-02-01 15:30:00   \n",
       "64     10163823.0  22018958.0  2166-02-22 18:16:00  2166-03-02 17:30:00   \n",
       "\n",
       "      gender               ethnicity insurance  label  split  \n",
       "42202      M  BLACK/AFRICAN AMERICAN     Other      0  train  \n",
       "9266       F                   WHITE  Medicare      0  train  \n",
       "43874      M  BLACK/AFRICAN AMERICAN  Medicare      0  train  \n",
       "3472       F                   WHITE     Other      0   test  \n",
       "64         F                   WHITE     Other      0  train  "
      ]
     },
     "execution_count": 169,
     "metadata": {},
     "output_type": "execute_result"
    }
   ],
   "source": [
    "def split_df(dataframe):\n",
    "    total_rows = len(dataframe)\n",
    "    train_end = int(total_rows * 0.6)\n",
    "    validation_end = train_end + int(total_rows * 0.2)\n",
    "\n",
    "    dataframe['split'] = 'train'  # Default to 'train'\n",
    "    dataframe.loc[train_end:validation_end-1, 'split'] = 'validation'\n",
    "    dataframe.loc[validation_end:, 'split'] = 'test'\n",
    "    return dataframe\n",
    "\n",
    "cohort_new = cohort.replace({\n",
    "    'WHITE - RUSSIAN': 'WHITE',\n",
    "    'WHITE - OTHER EUROPEAN': 'WHITE',\n",
    "    'HISPANIC/LATINO - PUERTO RICAN': 'HISPANIC OR LATINO',\n",
    "    'ASIAN - CHINESE': 'ASIAN',\n",
    "    'BLACK/CAPE VERDEAN': 'BLACK/AFRICAN AMERICAN',\n",
    "    'HISPANIC/LATINO - DOMINICAN': 'HISPANIC OR LATINO',\n",
    "    'BLACK/CARIBBEAN ISLAND': 'BLACK/AFRICAN AMERICAN',\n",
    "    'BLACK/AFRICAN': 'BLACK/AFRICAN AMERICAN',\n",
    "    'PORTUGUESE': 'WHITE',\n",
    "    'UNABLE TO OBTAIN': 'UNKNOWN',\n",
    "    'WHITE - EASTERN EUROPEAN': 'WHITE',\n",
    "    'ASIAN - SOUTH EAST ASIAN': 'ASIAN',                       \n",
    "    'HISPANIC/LATINO - GUATEMALAN': 'HISPANIC OR LATINO',\n",
    "    'PATIENT DECLINED TO ANSWER': 'UNKNOWN',                     \n",
    "    'AMERICAN INDIAN/ALASKA NATIVE': 'OTHER',                  \n",
    "    'ASIAN - ASIAN INDIAN': 'ASIAN',                           \n",
    "    'HISPANIC/LATINO - SALVADORAN': 'HISPANIC OR LATINO',\n",
    "    'HISPANIC/LATINO - CUBAN': 'HISPANIC OR LATINO',\n",
    "    'HISPANIC/LATINO - CENTRAL AMERICAN': 'HISPANIC OR LATINO',\n",
    "    'HISPANIC/LATINO - HONDURAN': 'HISPANIC OR LATINO',\n",
    "    'HISPANIC/LATINO - COLUMBIAN': 'HISPANIC OR LATINO',\n",
    "    'HISPANIC/LATINO - MEXICAN': 'HISPANIC OR LATINO',\n",
    "    'WHITE - BRAZILIAN': 'WHITE',\n",
    "    'NATIVE HAWAIIAN OR OTHER PACIFIC ISLANDER': 'OTHER',       \n",
    "    'SOUTH AMERICAN': 'HISPANIC OR LATINO',                                  \n",
    "    'ASIAN - KOREAN': 'ASIAN',                                  \n",
    "    'MULTIPLE RACE/ETHNICITY': 'OTHER',                         \n",
    "})\n",
    "cohort_new = cohort_new[(cohort_new.ethnicity=='WHITE')|(cohort_new.ethnicity=='BLACK/AFRICAN AMERICAN')]\n",
    "cohort_new['insurance_01'] = cohort_new['insurance']=='Other'\n",
    "split_dfs = []\n",
    "for gender in ['F', 'M']:\n",
    "    for label in [0, 1]:\n",
    "        for ethnicity in ['WHITE', 'BLACK/AFRICAN AMERICAN']:\n",
    "            for insurance_01 in [True, False]:\n",
    "                subset = cohort_new[(cohort_new['gender'] == gender) & \n",
    "                                (cohort_new['label'] == label) & \n",
    "                                (cohort_new['ethnicity'] == ethnicity) & \n",
    "                                (cohort_new['insurance_01'] == insurance_01)]\n",
    "                if not subset.empty:\n",
    "                    split_dfs.append(split_df(subset.copy().reset_index()))\n",
    "cohort_new = pd.concat(split_dfs).reset_index()                \n",
    "cohort_new = cohort_new.drop(columns=['level_0', 'index', 'Age', 'insurance_01'])\n",
    "print(cohort_new.split.value_counts())\n",
    "cohort_new.sample(5)"
   ]
  },
  {
   "cell_type": "code",
   "execution_count": 170,
   "id": "4c212aaf",
   "metadata": {},
   "outputs": [
    {
     "name": "stdout",
     "output_type": "stream",
     "text": [
      "<class 'pandas.core.frame.DataFrame'>\n",
      "RangeIndex: 50676 entries, 0 to 50675\n",
      "Data columns (total 9 columns):\n",
      " #   Column      Non-Null Count  Dtype  \n",
      "---  ------      --------------  -----  \n",
      " 0   subject_id  50676 non-null  float64\n",
      " 1   hadm_id     50676 non-null  float64\n",
      " 2   admittime   50676 non-null  object \n",
      " 3   dischtime   50676 non-null  object \n",
      " 4   gender      50676 non-null  object \n",
      " 5   ethnicity   50676 non-null  object \n",
      " 6   insurance   50676 non-null  object \n",
      " 7   label       50676 non-null  int64  \n",
      " 8   split       50676 non-null  object \n",
      "dtypes: float64(2), int64(1), object(6)\n",
      "memory usage: 3.5+ MB\n"
     ]
    }
   ],
   "source": [
    "cohort_new.to_csv(save_dir + 'cohort.csv')\n",
    "cohort_new.info()"
   ]
  },
  {
   "cell_type": "markdown",
   "id": "4a8b0a6f",
   "metadata": {},
   "source": [
    "### Diag"
   ]
  },
  {
   "cell_type": "code",
   "execution_count": 171,
   "id": "4b4ba13c",
   "metadata": {},
   "outputs": [
    {
     "name": "stdout",
     "output_type": "stream",
     "text": [
      "<class 'pandas.core.frame.DataFrame'>\n",
      "RangeIndex: 1016267 entries, 0 to 1016266\n",
      "Data columns (total 3 columns):\n",
      " #   Column        Non-Null Count    Dtype \n",
      "---  ------        --------------    ----- \n",
      " 0   subject_id    1016267 non-null  int64 \n",
      " 1   hadm_id       1016267 non-null  int64 \n",
      " 2   new_icd_code  1016267 non-null  object\n",
      "dtypes: int64(2), object(1)\n",
      "memory usage: 23.3+ MB\n"
     ]
    }
   ],
   "source": [
    "diag = pd.read_csv(read_dir + 'preproc_diag.csv.gz', compression='gzip')\n",
    "diag.info()"
   ]
  },
  {
   "cell_type": "code",
   "execution_count": 172,
   "id": "a0329a13",
   "metadata": {},
   "outputs": [
    {
     "data": {
      "text/html": [
       "<div>\n",
       "<style scoped>\n",
       "    .dataframe tbody tr th:only-of-type {\n",
       "        vertical-align: middle;\n",
       "    }\n",
       "\n",
       "    .dataframe tbody tr th {\n",
       "        vertical-align: top;\n",
       "    }\n",
       "\n",
       "    .dataframe thead th {\n",
       "        text-align: right;\n",
       "    }\n",
       "</style>\n",
       "<table border=\"1\" class=\"dataframe\">\n",
       "  <thead>\n",
       "    <tr style=\"text-align: right;\">\n",
       "      <th></th>\n",
       "      <th>subject_id</th>\n",
       "      <th>hadm_id</th>\n",
       "      <th>new_icd_code</th>\n",
       "      <th>long_title</th>\n",
       "    </tr>\n",
       "  </thead>\n",
       "  <tbody>\n",
       "    <tr>\n",
       "      <th>944349</th>\n",
       "      <td>19281994</td>\n",
       "      <td>27832017</td>\n",
       "      <td>I34</td>\n",
       "      <td>Nonrheumatic mitral valve disorders</td>\n",
       "    </tr>\n",
       "    <tr>\n",
       "      <th>154533</th>\n",
       "      <td>11512649</td>\n",
       "      <td>24481953</td>\n",
       "      <td>M48</td>\n",
       "      <td>Other spondylopathies</td>\n",
       "    </tr>\n",
       "    <tr>\n",
       "      <th>788408</th>\n",
       "      <td>17746916</td>\n",
       "      <td>23419637</td>\n",
       "      <td>N23</td>\n",
       "      <td>Unspecified renal colic</td>\n",
       "    </tr>\n",
       "    <tr>\n",
       "      <th>16037</th>\n",
       "      <td>10172708</td>\n",
       "      <td>27836647</td>\n",
       "      <td>Z91</td>\n",
       "      <td>Personal risk factors, not elsewhere classified</td>\n",
       "    </tr>\n",
       "    <tr>\n",
       "      <th>982365</th>\n",
       "      <td>19667522</td>\n",
       "      <td>25933816</td>\n",
       "      <td>C91</td>\n",
       "      <td>Lymphoid leukemia</td>\n",
       "    </tr>\n",
       "  </tbody>\n",
       "</table>\n",
       "</div>"
      ],
      "text/plain": [
       "        subject_id   hadm_id new_icd_code  \\\n",
       "944349    19281994  27832017          I34   \n",
       "154533    11512649  24481953          M48   \n",
       "788408    17746916  23419637          N23   \n",
       "16037     10172708  27836647          Z91   \n",
       "982365    19667522  25933816          C91   \n",
       "\n",
       "                                             long_title  \n",
       "944349              Nonrheumatic mitral valve disorders  \n",
       "154533                            Other spondylopathies  \n",
       "788408                          Unspecified renal colic  \n",
       "16037   Personal risk factors, not elsewhere classified  \n",
       "982365                                Lymphoid leukemia  "
      ]
     },
     "execution_count": 172,
     "metadata": {},
     "output_type": "execute_result"
    }
   ],
   "source": [
    "icd_map = pd.read_csv('./mimiciv/2.2/hosp/d_icd_diagnoses.csv.gz', compression='gzip')\n",
    "icd_map = icd_map[icd_map.icd_version==10]\n",
    "\n",
    "diag_new = pd.merge(diag, icd_map, left_on='new_icd_code', right_on='icd_code', how='left')\n",
    "diag_new = diag_new[['subject_id','hadm_id','new_icd_code','long_title']]\n",
    "diag_new = diag_new[diag_new.hadm_id.isin(cohort_new.hadm_id)]\n",
    "diag_new.sample(5)"
   ]
  },
  {
   "cell_type": "code",
   "execution_count": 173,
   "id": "a79dc70d",
   "metadata": {
    "scrolled": true
   },
   "outputs": [
    {
     "name": "stdout",
     "output_type": "stream",
     "text": [
      "<class 'pandas.core.frame.DataFrame'>\n",
      "Int64Index: 887627 entries, 0 to 1016266\n",
      "Data columns (total 4 columns):\n",
      " #   Column        Non-Null Count   Dtype \n",
      "---  ------        --------------   ----- \n",
      " 0   subject_id    887627 non-null  int64 \n",
      " 1   hadm_id       887627 non-null  int64 \n",
      " 2   new_icd_code  887627 non-null  object\n",
      " 3   long_title    887627 non-null  object\n",
      "dtypes: int64(2), object(2)\n",
      "memory usage: 33.9+ MB\n"
     ]
    }
   ],
   "source": [
    "diag_new.to_csv(save_dir + 'diag.csv')\n",
    "diag_new.info()"
   ]
  },
  {
   "cell_type": "markdown",
   "id": "eacb33b6",
   "metadata": {},
   "source": [
    "### Labs"
   ]
  },
  {
   "cell_type": "code",
   "execution_count": 193,
   "id": "cf7cac43",
   "metadata": {},
   "outputs": [
    {
     "name": "stdout",
     "output_type": "stream",
     "text": [
      "<class 'pandas.core.frame.DataFrame'>\n",
      "RangeIndex: 14555160 entries, 0 to 14555159\n",
      "Data columns (total 7 columns):\n",
      " #   Column               Dtype  \n",
      "---  ------               -----  \n",
      " 0   subject_id           int64  \n",
      " 1   hadm_id              float64\n",
      " 2   charttime            object \n",
      " 3   itemid               int64  \n",
      " 4   admittime            object \n",
      " 5   lab_time_from_admit  object \n",
      " 6   valuenum             float64\n",
      "dtypes: float64(2), int64(2), object(3)\n",
      "memory usage: 777.3+ MB\n"
     ]
    }
   ],
   "source": [
    "labs = pd.read_csv(read_dir + 'preproc_labs.csv.gz', compression='gzip')\n",
    "labs.info()"
   ]
  },
  {
   "cell_type": "code",
   "execution_count": 194,
   "id": "f171a687",
   "metadata": {},
   "outputs": [
    {
     "data": {
      "text/html": [
       "<div>\n",
       "<style scoped>\n",
       "    .dataframe tbody tr th:only-of-type {\n",
       "        vertical-align: middle;\n",
       "    }\n",
       "\n",
       "    .dataframe tbody tr th {\n",
       "        vertical-align: top;\n",
       "    }\n",
       "\n",
       "    .dataframe thead th {\n",
       "        text-align: right;\n",
       "    }\n",
       "</style>\n",
       "<table border=\"1\" class=\"dataframe\">\n",
       "  <thead>\n",
       "    <tr style=\"text-align: right;\">\n",
       "      <th></th>\n",
       "      <th>subject_id</th>\n",
       "      <th>hadm_id</th>\n",
       "      <th>itemid</th>\n",
       "      <th>lab_time_from_admit</th>\n",
       "      <th>valuenum</th>\n",
       "      <th>label</th>\n",
       "      <th>fluid</th>\n",
       "      <th>category</th>\n",
       "    </tr>\n",
       "  </thead>\n",
       "  <tbody>\n",
       "    <tr>\n",
       "      <th>7579123</th>\n",
       "      <td>15179586</td>\n",
       "      <td>25277029.0</td>\n",
       "      <td>50947</td>\n",
       "      <td>2 days 10:33:00</td>\n",
       "      <td>0.00</td>\n",
       "      <td>I</td>\n",
       "      <td>Blood</td>\n",
       "      <td>Chemistry</td>\n",
       "    </tr>\n",
       "    <tr>\n",
       "      <th>8994065</th>\n",
       "      <td>16147477</td>\n",
       "      <td>28763964.0</td>\n",
       "      <td>50820</td>\n",
       "      <td>2 days 20:34:00</td>\n",
       "      <td>7.37</td>\n",
       "      <td>pH</td>\n",
       "      <td>Blood</td>\n",
       "      <td>Blood Gas</td>\n",
       "    </tr>\n",
       "    <tr>\n",
       "      <th>7021502</th>\n",
       "      <td>14787989</td>\n",
       "      <td>29506566.0</td>\n",
       "      <td>51450</td>\n",
       "      <td>0 days 14:47:00</td>\n",
       "      <td>34.00</td>\n",
       "      <td>Monos</td>\n",
       "      <td>Pleural</td>\n",
       "      <td>Hematology</td>\n",
       "    </tr>\n",
       "    <tr>\n",
       "      <th>11633892</th>\n",
       "      <td>17968573</td>\n",
       "      <td>28216346.0</td>\n",
       "      <td>51249</td>\n",
       "      <td>9 days 16:17:00</td>\n",
       "      <td>27.80</td>\n",
       "      <td>MCHC</td>\n",
       "      <td>Blood</td>\n",
       "      <td>Hematology</td>\n",
       "    </tr>\n",
       "    <tr>\n",
       "      <th>6532559</th>\n",
       "      <td>14422803</td>\n",
       "      <td>25576375.0</td>\n",
       "      <td>51277</td>\n",
       "      <td>0 days 18:45:00</td>\n",
       "      <td>16.90</td>\n",
       "      <td>RDW</td>\n",
       "      <td>Blood</td>\n",
       "      <td>Hematology</td>\n",
       "    </tr>\n",
       "  </tbody>\n",
       "</table>\n",
       "</div>"
      ],
      "text/plain": [
       "          subject_id     hadm_id  itemid lab_time_from_admit  valuenum  label  \\\n",
       "7579123     15179586  25277029.0   50947     2 days 10:33:00      0.00      I   \n",
       "8994065     16147477  28763964.0   50820     2 days 20:34:00      7.37     pH   \n",
       "7021502     14787989  29506566.0   51450     0 days 14:47:00     34.00  Monos   \n",
       "11633892    17968573  28216346.0   51249     9 days 16:17:00     27.80   MCHC   \n",
       "6532559     14422803  25576375.0   51277     0 days 18:45:00     16.90    RDW   \n",
       "\n",
       "            fluid    category  \n",
       "7579123     Blood   Chemistry  \n",
       "8994065     Blood   Blood Gas  \n",
       "7021502   Pleural  Hematology  \n",
       "11633892    Blood  Hematology  \n",
       "6532559     Blood  Hematology  "
      ]
     },
     "execution_count": 194,
     "metadata": {},
     "output_type": "execute_result"
    }
   ],
   "source": [
    "lab_map = pd.read_csv('./mimiciv/2.2/hosp/d_labitems.csv.gz', compression='gzip')\n",
    "\n",
    "labs_new = pd.merge(labs, lab_map, on='itemid', how='left')\n",
    "labs_new = labs_new[['subject_id','hadm_id','itemid','lab_time_from_admit','valuenum','label','fluid','category']]\n",
    "labs_new = labs_new[labs_new.hadm_id.isin(cohort_new.hadm_id)]\n",
    "labs_new.sample(5)"
   ]
  },
  {
   "cell_type": "code",
   "execution_count": 195,
   "id": "b7401039",
   "metadata": {
    "scrolled": true
   },
   "outputs": [
    {
     "name": "stdout",
     "output_type": "stream",
     "text": [
      "<class 'pandas.core.frame.DataFrame'>\n",
      "Int64Index: 12408774 entries, 0 to 14555159\n",
      "Data columns (total 8 columns):\n",
      " #   Column               Dtype  \n",
      "---  ------               -----  \n",
      " 0   subject_id           int64  \n",
      " 1   hadm_id              float64\n",
      " 2   itemid               int64  \n",
      " 3   lab_time_from_admit  object \n",
      " 4   valuenum             float64\n",
      " 5   label                object \n",
      " 6   fluid                object \n",
      " 7   category             object \n",
      "dtypes: float64(2), int64(2), object(4)\n",
      "memory usage: 852.0+ MB\n"
     ]
    }
   ],
   "source": [
    "labs_new.to_csv(save_dir + 'labs.csv')\n",
    "labs_new.info()"
   ]
  },
  {
   "cell_type": "markdown",
   "id": "8c795406",
   "metadata": {},
   "source": [
    "### Proc"
   ]
  },
  {
   "cell_type": "code",
   "execution_count": 198,
   "id": "b2b36f56",
   "metadata": {},
   "outputs": [
    {
     "name": "stdout",
     "output_type": "stream",
     "text": [
      "<class 'pandas.core.frame.DataFrame'>\n",
      "RangeIndex: 40698 entries, 0 to 40697\n",
      "Data columns (total 6 columns):\n",
      " #   Column                Non-Null Count  Dtype \n",
      "---  ------                --------------  ----- \n",
      " 0   subject_id            40698 non-null  int64 \n",
      " 1   hadm_id               40698 non-null  int64 \n",
      " 2   icd_code              40698 non-null  object\n",
      " 3   chartdate             40698 non-null  object\n",
      " 4   admittime             40698 non-null  object\n",
      " 5   proc_time_from_admit  40698 non-null  object\n",
      "dtypes: int64(2), object(4)\n",
      "memory usage: 1.9+ MB\n"
     ]
    }
   ],
   "source": [
    "proc = pd.read_csv(read_dir + 'preproc_proc.csv.gz', compression='gzip')\n",
    "proc.info()"
   ]
  },
  {
   "cell_type": "code",
   "execution_count": 199,
   "id": "108e1412",
   "metadata": {},
   "outputs": [
    {
     "data": {
      "text/html": [
       "<div>\n",
       "<style scoped>\n",
       "    .dataframe tbody tr th:only-of-type {\n",
       "        vertical-align: middle;\n",
       "    }\n",
       "\n",
       "    .dataframe tbody tr th {\n",
       "        vertical-align: top;\n",
       "    }\n",
       "\n",
       "    .dataframe thead th {\n",
       "        text-align: right;\n",
       "    }\n",
       "</style>\n",
       "<table border=\"1\" class=\"dataframe\">\n",
       "  <thead>\n",
       "    <tr style=\"text-align: right;\">\n",
       "      <th></th>\n",
       "      <th>subject_id</th>\n",
       "      <th>hadm_id</th>\n",
       "      <th>icd_code</th>\n",
       "      <th>proc_time_from_admit</th>\n",
       "      <th>long_title</th>\n",
       "    </tr>\n",
       "  </thead>\n",
       "  <tbody>\n",
       "    <tr>\n",
       "      <th>29891</th>\n",
       "      <td>17358150</td>\n",
       "      <td>25270375</td>\n",
       "      <td>03CK0ZZ</td>\n",
       "      <td>7 days 00:00:00</td>\n",
       "      <td>Extirpation of Matter from Right Internal Caro...</td>\n",
       "    </tr>\n",
       "    <tr>\n",
       "      <th>37691</th>\n",
       "      <td>19266140</td>\n",
       "      <td>23162122</td>\n",
       "      <td>4B02XSZ</td>\n",
       "      <td>1 days 23:24:00</td>\n",
       "      <td>Measurement of Cardiac Pacemaker, External App...</td>\n",
       "    </tr>\n",
       "    <tr>\n",
       "      <th>6976</th>\n",
       "      <td>11651867</td>\n",
       "      <td>20236112</td>\n",
       "      <td>02HK3JZ</td>\n",
       "      <td>7 days 03:51:00</td>\n",
       "      <td>Insertion of Pacemaker Lead into Right Ventric...</td>\n",
       "    </tr>\n",
       "    <tr>\n",
       "      <th>28837</th>\n",
       "      <td>17074541</td>\n",
       "      <td>23192877</td>\n",
       "      <td>5A1955Z</td>\n",
       "      <td>1 days 16:38:00</td>\n",
       "      <td>Respiratory Ventilation, Greater than 96 Conse...</td>\n",
       "    </tr>\n",
       "    <tr>\n",
       "      <th>21487</th>\n",
       "      <td>15261807</td>\n",
       "      <td>29700270</td>\n",
       "      <td>02UJ0JZ</td>\n",
       "      <td>3 days 01:41:00</td>\n",
       "      <td>Supplement Tricuspid Valve with Synthetic Subs...</td>\n",
       "    </tr>\n",
       "  </tbody>\n",
       "</table>\n",
       "</div>"
      ],
      "text/plain": [
       "       subject_id   hadm_id icd_code proc_time_from_admit  \\\n",
       "29891    17358150  25270375  03CK0ZZ      7 days 00:00:00   \n",
       "37691    19266140  23162122  4B02XSZ      1 days 23:24:00   \n",
       "6976     11651867  20236112  02HK3JZ      7 days 03:51:00   \n",
       "28837    17074541  23192877  5A1955Z      1 days 16:38:00   \n",
       "21487    15261807  29700270  02UJ0JZ      3 days 01:41:00   \n",
       "\n",
       "                                              long_title  \n",
       "29891  Extirpation of Matter from Right Internal Caro...  \n",
       "37691  Measurement of Cardiac Pacemaker, External App...  \n",
       "6976   Insertion of Pacemaker Lead into Right Ventric...  \n",
       "28837  Respiratory Ventilation, Greater than 96 Conse...  \n",
       "21487  Supplement Tricuspid Valve with Synthetic Subs...  "
      ]
     },
     "execution_count": 199,
     "metadata": {},
     "output_type": "execute_result"
    }
   ],
   "source": [
    "pcd_map = pd.read_csv('./mimiciv/2.2/hosp/d_icd_procedures.csv.gz', compression='gzip')\n",
    "pcd_map = pcd_map[pcd_map.icd_version==10]\n",
    "\n",
    "proc_new = pd.merge(proc, pcd_map, on='icd_code', how='left')\n",
    "proc_new = proc_new[['subject_id','hadm_id','icd_code','proc_time_from_admit','long_title']]\n",
    "proc_new = proc_new[proc_new.hadm_id.isin(cohort_new.hadm_id)]\n",
    "proc_new.sample(5)"
   ]
  },
  {
   "cell_type": "code",
   "execution_count": 200,
   "id": "e00e16fc",
   "metadata": {
    "scrolled": true
   },
   "outputs": [
    {
     "name": "stdout",
     "output_type": "stream",
     "text": [
      "<class 'pandas.core.frame.DataFrame'>\n",
      "Int64Index: 33549 entries, 0 to 40697\n",
      "Data columns (total 5 columns):\n",
      " #   Column                Non-Null Count  Dtype \n",
      "---  ------                --------------  ----- \n",
      " 0   subject_id            33549 non-null  int64 \n",
      " 1   hadm_id               33549 non-null  int64 \n",
      " 2   icd_code              33549 non-null  object\n",
      " 3   proc_time_from_admit  33549 non-null  object\n",
      " 4   long_title            33549 non-null  object\n",
      "dtypes: int64(2), object(3)\n",
      "memory usage: 1.5+ MB\n"
     ]
    }
   ],
   "source": [
    "proc_new.to_csv(save_dir + 'proc.csv')\n",
    "proc_new.info()"
   ]
  },
  {
   "cell_type": "markdown",
   "id": "b2bfbd0a",
   "metadata": {},
   "source": [
    "### Meds"
   ]
  },
  {
   "cell_type": "code",
   "execution_count": 203,
   "id": "d2889646",
   "metadata": {},
   "outputs": [
    {
     "name": "stdout",
     "output_type": "stream",
     "text": [
      "<class 'pandas.core.frame.DataFrame'>\n",
      "RangeIndex: 1842600 entries, 0 to 1842599\n",
      "Data columns (total 8 columns):\n",
      " #   Column                  Dtype \n",
      "---  ------                  ----- \n",
      " 0   subject_id              int64 \n",
      " 1   hadm_id                 int64 \n",
      " 2   starttime               object\n",
      " 3   stoptime                object\n",
      " 4   drug_name               object\n",
      " 5   start_hours_from_admit  object\n",
      " 6   stop_hours_from_admit   object\n",
      " 7   dose_val_rx             object\n",
      "dtypes: int64(2), object(6)\n",
      "memory usage: 112.5+ MB\n"
     ]
    }
   ],
   "source": [
    "meds = pd.read_csv(read_dir + 'preproc_med.csv.gz', compression='gzip')\n",
    "meds.info()"
   ]
  },
  {
   "cell_type": "code",
   "execution_count": 204,
   "id": "84d97dda",
   "metadata": {},
   "outputs": [
    {
     "data": {
      "text/html": [
       "<div>\n",
       "<style scoped>\n",
       "    .dataframe tbody tr th:only-of-type {\n",
       "        vertical-align: middle;\n",
       "    }\n",
       "\n",
       "    .dataframe tbody tr th {\n",
       "        vertical-align: top;\n",
       "    }\n",
       "\n",
       "    .dataframe thead th {\n",
       "        text-align: right;\n",
       "    }\n",
       "</style>\n",
       "<table border=\"1\" class=\"dataframe\">\n",
       "  <thead>\n",
       "    <tr style=\"text-align: right;\">\n",
       "      <th></th>\n",
       "      <th>subject_id</th>\n",
       "      <th>hadm_id</th>\n",
       "      <th>drug_name</th>\n",
       "      <th>start_hours_from_admit</th>\n",
       "      <th>stop_hours_from_admit</th>\n",
       "      <th>dose_val_rx</th>\n",
       "    </tr>\n",
       "  </thead>\n",
       "  <tbody>\n",
       "    <tr>\n",
       "      <th>728159</th>\n",
       "      <td>19674244</td>\n",
       "      <td>26076868</td>\n",
       "      <td>sodium chloride</td>\n",
       "      <td>3 days 02:59:00</td>\n",
       "      <td>5 days 04:59:00</td>\n",
       "      <td>100</td>\n",
       "    </tr>\n",
       "    <tr>\n",
       "      <th>1428001</th>\n",
       "      <td>10109085</td>\n",
       "      <td>27429585</td>\n",
       "      <td>potassium chloride</td>\n",
       "      <td>1 days 13:30:00</td>\n",
       "      <td>1 days 12:30:00</td>\n",
       "      <td>20</td>\n",
       "    </tr>\n",
       "    <tr>\n",
       "      <th>1706122</th>\n",
       "      <td>17524541</td>\n",
       "      <td>23376619</td>\n",
       "      <td>amoxicillin and clavulanate potassium</td>\n",
       "      <td>1 days 15:27:00</td>\n",
       "      <td>1 days 20:27:00</td>\n",
       "      <td>500</td>\n",
       "    </tr>\n",
       "    <tr>\n",
       "      <th>411829</th>\n",
       "      <td>19843082</td>\n",
       "      <td>23323137</td>\n",
       "      <td>prednisone</td>\n",
       "      <td>12 days 13:48:00</td>\n",
       "      <td>14 days 12:48:00</td>\n",
       "      <td>40</td>\n",
       "    </tr>\n",
       "    <tr>\n",
       "      <th>1725661</th>\n",
       "      <td>10480035</td>\n",
       "      <td>26532273</td>\n",
       "      <td>hydroxyzine hydrochloride</td>\n",
       "      <td>3 days 08:29:00</td>\n",
       "      <td>4 days 07:29:00</td>\n",
       "      <td>12.5</td>\n",
       "    </tr>\n",
       "  </tbody>\n",
       "</table>\n",
       "</div>"
      ],
      "text/plain": [
       "         subject_id   hadm_id                              drug_name  \\\n",
       "728159     19674244  26076868                        sodium chloride   \n",
       "1428001    10109085  27429585                     potassium chloride   \n",
       "1706122    17524541  23376619  amoxicillin and clavulanate potassium   \n",
       "411829     19843082  23323137                             prednisone   \n",
       "1725661    10480035  26532273              hydroxyzine hydrochloride   \n",
       "\n",
       "        start_hours_from_admit stop_hours_from_admit dose_val_rx  \n",
       "728159         3 days 02:59:00       5 days 04:59:00         100  \n",
       "1428001        1 days 13:30:00       1 days 12:30:00          20  \n",
       "1706122        1 days 15:27:00       1 days 20:27:00         500  \n",
       "411829        12 days 13:48:00      14 days 12:48:00          40  \n",
       "1725661        3 days 08:29:00       4 days 07:29:00        12.5  "
      ]
     },
     "execution_count": 204,
     "metadata": {},
     "output_type": "execute_result"
    }
   ],
   "source": [
    "meds_new = meds.copy()\n",
    "meds_new = meds_new[['subject_id','hadm_id','drug_name','start_hours_from_admit','stop_hours_from_admit','dose_val_rx']]\n",
    "meds_new = meds_new[meds_new.hadm_id.isin(cohort_new.hadm_id)]\n",
    "meds_new.sample(5)"
   ]
  },
  {
   "cell_type": "code",
   "execution_count": 205,
   "id": "ebf364ca",
   "metadata": {
    "scrolled": true
   },
   "outputs": [
    {
     "name": "stdout",
     "output_type": "stream",
     "text": [
      "<class 'pandas.core.frame.DataFrame'>\n",
      "Int64Index: 1567031 entries, 0 to 1842599\n",
      "Data columns (total 6 columns):\n",
      " #   Column                  Non-Null Count    Dtype \n",
      "---  ------                  --------------    ----- \n",
      " 0   subject_id              1567031 non-null  int64 \n",
      " 1   hadm_id                 1567031 non-null  int64 \n",
      " 2   drug_name               1567031 non-null  object\n",
      " 3   start_hours_from_admit  1567031 non-null  object\n",
      " 4   stop_hours_from_admit   1567031 non-null  object\n",
      " 5   dose_val_rx             1567031 non-null  object\n",
      "dtypes: int64(2), object(4)\n",
      "memory usage: 83.7+ MB\n"
     ]
    }
   ],
   "source": [
    "meds_new.to_csv(save_dir + 'meds.csv')\n",
    "meds_new.info()"
   ]
  },
  {
   "cell_type": "code",
   "execution_count": 206,
   "id": "02c70c3f",
   "metadata": {},
   "outputs": [
    {
     "data": {
      "text/plain": [
       "sodium chloride                    116461\n",
       "furosemide                          95463\n",
       "potassium chloride                  75341\n",
       "dextrose monohydrate                73704\n",
       "heparin sodium                      72999\n",
       "                                    ...  \n",
       "trimethobenzamide hydrochloride         1\n",
       "levonorgestrel                          1\n",
       "indigo carmine                          1\n",
       "asenapine maleate                       1\n",
       "sumatriptan                             1\n",
       "Name: drug_name, Length: 905, dtype: int64"
      ]
     },
     "execution_count": 206,
     "metadata": {},
     "output_type": "execute_result"
    }
   ],
   "source": [
    "meds_new.drug_name.value_counts()"
   ]
  },
  {
   "cell_type": "code",
   "execution_count": null,
   "id": "f01d9c4f",
   "metadata": {},
   "outputs": [],
   "source": []
  }
 ],
 "metadata": {
  "hide_input": false,
  "kernelspec": {
   "display_name": "Python 3 (ipykernel)",
   "language": "python",
   "name": "python3"
  },
  "language_info": {
   "codemirror_mode": {
    "name": "ipython",
    "version": 3
   },
   "file_extension": ".py",
   "mimetype": "text/x-python",
   "name": "python",
   "nbconvert_exporter": "python",
   "pygments_lexer": "ipython3",
   "version": "3.9.7"
  }
 },
 "nbformat": 4,
 "nbformat_minor": 5
}
