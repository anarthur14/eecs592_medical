{
 "cells": [
  {
   "cell_type": "code",
   "execution_count": 1,
   "id": "e8df4f53",
   "metadata": {},
   "outputs": [],
   "source": [
    "import pandas as pd"
   ]
  },
  {
   "cell_type": "code",
   "execution_count": 2,
   "id": "1f382b17",
   "metadata": {},
   "outputs": [],
   "source": [
    "def split_df(dataframe):\n",
    "    total_rows = len(dataframe)\n",
    "    train_end = int(total_rows * 0.6)\n",
    "    validation_end = train_end + int(total_rows * 0.2)\n",
    "\n",
    "    dataframe['split'] = 'train'  # Default to 'train'\n",
    "    dataframe.loc[train_end:validation_end-1, 'split'] = 'validation'\n",
    "    dataframe.loc[validation_end:, 'split'] = 'test'\n",
    "    return dataframe"
   ]
  },
  {
   "cell_type": "markdown",
   "id": "4c0e3cf0",
   "metadata": {},
   "source": [
    "# Load"
   ]
  },
  {
   "cell_type": "code",
   "execution_count": 3,
   "id": "5e250591",
   "metadata": {},
   "outputs": [],
   "source": [
    "h_dir = './processed_hf/'"
   ]
  },
  {
   "cell_type": "code",
   "execution_count": 4,
   "id": "0923dfd0",
   "metadata": {},
   "outputs": [
    {
     "name": "stderr",
     "output_type": "stream",
     "text": [
      "/sw/pkgs/arc/python3.9-anaconda/2021.11/lib/python3.9/site-packages/numpy/lib/arraysetops.py:583: FutureWarning: elementwise comparison failed; returning scalar instead, but in the future will perform elementwise comparison\n",
      "  mask |= (ar1 == a)\n"
     ]
    }
   ],
   "source": [
    "h_cohort = pd.read_csv(h_dir + 'cohort.csv', index_col=0)\n",
    "h_diag = pd.read_csv(h_dir + 'diag.csv', index_col=0)\n",
    "h_labs = pd.read_csv(h_dir + 'labs.csv', index_col=0)\n",
    "h_proc = pd.read_csv(h_dir + 'proc.csv', index_col=0)\n",
    "h_meds = pd.read_csv(h_dir + 'meds.csv', index_col=0)"
   ]
  },
  {
   "cell_type": "code",
   "execution_count": 5,
   "id": "545fd595",
   "metadata": {},
   "outputs": [],
   "source": [
    "d_dir = './processed_diabetes/'"
   ]
  },
  {
   "cell_type": "code",
   "execution_count": 6,
   "id": "f3f41021",
   "metadata": {},
   "outputs": [],
   "source": [
    "d_cohort = pd.read_csv(d_dir + 'cohort.csv', index_col=0)\n",
    "d_diag = pd.read_csv(d_dir + 'diag.csv', index_col=0)\n",
    "d_labs = pd.read_csv(d_dir + 'labs.csv', index_col=0)\n",
    "d_proc = pd.read_csv(d_dir + 'proc.csv', index_col=0)\n",
    "d_meds = pd.read_csv(d_dir + 'meds.csv', index_col=0)"
   ]
  },
  {
   "cell_type": "markdown",
   "id": "8a6ff3c6",
   "metadata": {},
   "source": [
    "# Process"
   ]
  },
  {
   "cell_type": "code",
   "execution_count": 7,
   "id": "21df7b62",
   "metadata": {},
   "outputs": [],
   "source": [
    "save_dir = './processed/'"
   ]
  },
  {
   "cell_type": "code",
   "execution_count": 13,
   "id": "e356743e",
   "metadata": {},
   "outputs": [
    {
     "name": "stdout",
     "output_type": "stream",
     "text": [
      "train         65276\n",
      "test          21782\n",
      "validation    21749\n",
      "Name: split, dtype: int64\n"
     ]
    },
    {
     "data": {
      "text/html": [
       "<div>\n",
       "<style scoped>\n",
       "    .dataframe tbody tr th:only-of-type {\n",
       "        vertical-align: middle;\n",
       "    }\n",
       "\n",
       "    .dataframe tbody tr th {\n",
       "        vertical-align: top;\n",
       "    }\n",
       "\n",
       "    .dataframe thead th {\n",
       "        text-align: right;\n",
       "    }\n",
       "</style>\n",
       "<table border=\"1\" class=\"dataframe\">\n",
       "  <thead>\n",
       "    <tr style=\"text-align: right;\">\n",
       "      <th></th>\n",
       "      <th>subject_id</th>\n",
       "      <th>hadm_id</th>\n",
       "      <th>admittime</th>\n",
       "      <th>dischtime</th>\n",
       "      <th>gender</th>\n",
       "      <th>ethnicity</th>\n",
       "      <th>insurance</th>\n",
       "      <th>label_hf</th>\n",
       "      <th>label_diabetes</th>\n",
       "      <th>split</th>\n",
       "    </tr>\n",
       "  </thead>\n",
       "  <tbody>\n",
       "    <tr>\n",
       "      <th>87102</th>\n",
       "      <td>18011109.0</td>\n",
       "      <td>27564859.0</td>\n",
       "      <td>2132-09-24 05:26:00</td>\n",
       "      <td>2132-10-01 12:51:00</td>\n",
       "      <td>M</td>\n",
       "      <td>WHITE</td>\n",
       "      <td>Other</td>\n",
       "      <td>0.0</td>\n",
       "      <td>0.0</td>\n",
       "      <td>test</td>\n",
       "    </tr>\n",
       "    <tr>\n",
       "      <th>46840</th>\n",
       "      <td>14298628.0</td>\n",
       "      <td>26821756.0</td>\n",
       "      <td>2164-03-31 15:17:00</td>\n",
       "      <td>2164-04-02 12:45:00</td>\n",
       "      <td>M</td>\n",
       "      <td>WHITE</td>\n",
       "      <td>Medicare</td>\n",
       "      <td>1.0</td>\n",
       "      <td>0.0</td>\n",
       "      <td>train</td>\n",
       "    </tr>\n",
       "    <tr>\n",
       "      <th>89182</th>\n",
       "      <td>18193043.0</td>\n",
       "      <td>27045774.0</td>\n",
       "      <td>2153-02-06 17:31:00</td>\n",
       "      <td>2153-02-12 14:31:00</td>\n",
       "      <td>M</td>\n",
       "      <td>WHITE</td>\n",
       "      <td>Medicare</td>\n",
       "      <td>0.0</td>\n",
       "      <td>0.0</td>\n",
       "      <td>train</td>\n",
       "    </tr>\n",
       "    <tr>\n",
       "      <th>63721</th>\n",
       "      <td>15870527.0</td>\n",
       "      <td>23326084.0</td>\n",
       "      <td>2163-05-26 22:20:00</td>\n",
       "      <td>2163-05-28 18:09:00</td>\n",
       "      <td>F</td>\n",
       "      <td>BLACK/AFRICAN AMERICAN</td>\n",
       "      <td>Medicare</td>\n",
       "      <td>0.0</td>\n",
       "      <td>0.0</td>\n",
       "      <td>train</td>\n",
       "    </tr>\n",
       "    <tr>\n",
       "      <th>31154</th>\n",
       "      <td>12852721.0</td>\n",
       "      <td>22742155.0</td>\n",
       "      <td>2121-06-05 12:28:00</td>\n",
       "      <td>2121-06-10 16:20:00</td>\n",
       "      <td>F</td>\n",
       "      <td>WHITE</td>\n",
       "      <td>Medicare</td>\n",
       "      <td>0.0</td>\n",
       "      <td>0.0</td>\n",
       "      <td>train</td>\n",
       "    </tr>\n",
       "  </tbody>\n",
       "</table>\n",
       "</div>"
      ],
      "text/plain": [
       "       subject_id     hadm_id            admittime            dischtime  \\\n",
       "87102  18011109.0  27564859.0  2132-09-24 05:26:00  2132-10-01 12:51:00   \n",
       "46840  14298628.0  26821756.0  2164-03-31 15:17:00  2164-04-02 12:45:00   \n",
       "89182  18193043.0  27045774.0  2153-02-06 17:31:00  2153-02-12 14:31:00   \n",
       "63721  15870527.0  23326084.0  2163-05-26 22:20:00  2163-05-28 18:09:00   \n",
       "31154  12852721.0  22742155.0  2121-06-05 12:28:00  2121-06-10 16:20:00   \n",
       "\n",
       "      gender               ethnicity insurance  label_hf  label_diabetes  \\\n",
       "87102      M                   WHITE     Other       0.0             0.0   \n",
       "46840      M                   WHITE  Medicare       1.0             0.0   \n",
       "89182      M                   WHITE  Medicare       0.0             0.0   \n",
       "63721      F  BLACK/AFRICAN AMERICAN  Medicare       0.0             0.0   \n",
       "31154      F                   WHITE  Medicare       0.0             0.0   \n",
       "\n",
       "       split  \n",
       "87102   test  \n",
       "46840  train  \n",
       "89182  train  \n",
       "63721  train  \n",
       "31154  train  "
      ]
     },
     "execution_count": 13,
     "metadata": {},
     "output_type": "execute_result"
    }
   ],
   "source": [
    "cohort = pd.merge(h_cohort, d_cohort, how='outer', \n",
    "                  on = ['subject_id','hadm_id','admittime','dischtime','gender','ethnicity','insurance'],\n",
    "                  suffixes = ('_hf', '_diabetes')).fillna(0)\n",
    "cohort['insurance_01'] = cohort['insurance']=='Other'\n",
    "split_dfs = []\n",
    "for gender in ['F', 'M']:\n",
    "    for label_hf in [0, 1]:\n",
    "        for label_diabetes in [0, 1]:\n",
    "            for insurance_01 in [True, False]:\n",
    "                for ethnicity in ['WHITE', 'BLACK/AFRICAN AMERICAN']:\n",
    "                    subset = cohort[(cohort['gender'] == gender) & \n",
    "                                    (cohort['label_hf'] == label_hf) & \n",
    "                                    (cohort['label_diabetes'] == label_diabetes) & \n",
    "                                    (cohort['ethnicity'] == ethnicity) & \n",
    "                                    (cohort['insurance_01'] == insurance_01)]\n",
    "                    if not subset.empty:\n",
    "                        split_dfs.append(split_df(subset.copy().reset_index()))\n",
    "cohort = pd.concat(split_dfs).sort_values(['subject_id', 'admittime']).reset_index()                \n",
    "cohort = cohort.drop(columns=['level_0', 'index', 'insurance_01', 'split_hf', 'split_diabetes'])\n",
    "print(cohort.split.value_counts())\n",
    "cohort.sample(5)"
   ]
  },
  {
   "cell_type": "code",
   "execution_count": 15,
   "id": "5ed247e4",
   "metadata": {},
   "outputs": [
    {
     "name": "stdout",
     "output_type": "stream",
     "text": [
      "<class 'pandas.core.frame.DataFrame'>\n",
      "RangeIndex: 108807 entries, 0 to 108806\n",
      "Data columns (total 10 columns):\n",
      " #   Column          Non-Null Count   Dtype  \n",
      "---  ------          --------------   -----  \n",
      " 0   subject_id      108807 non-null  float64\n",
      " 1   hadm_id         108807 non-null  float64\n",
      " 2   admittime       108807 non-null  object \n",
      " 3   dischtime       108807 non-null  object \n",
      " 4   gender          108807 non-null  object \n",
      " 5   ethnicity       108807 non-null  object \n",
      " 6   insurance       108807 non-null  object \n",
      " 7   label_hf        108807 non-null  float64\n",
      " 8   label_diabetes  108807 non-null  float64\n",
      " 9   split           108807 non-null  object \n",
      "dtypes: float64(4), object(6)\n",
      "memory usage: 8.3+ MB\n"
     ]
    }
   ],
   "source": [
    "cohort.to_csv(save_dir + 'cohort.csv')\n",
    "cohort.info()"
   ]
  },
  {
   "cell_type": "code",
   "execution_count": 22,
   "id": "30c184df",
   "metadata": {},
   "outputs": [
    {
     "name": "stdout",
     "output_type": "stream",
     "text": [
      "<class 'pandas.core.frame.DataFrame'>\n",
      "Int64Index: 1468261 entries, 0 to 1468260\n",
      "Data columns (total 6 columns):\n",
      " #   Column          Non-Null Count    Dtype  \n",
      "---  ------          --------------    -----  \n",
      " 0   subject_id      1468261 non-null  int64  \n",
      " 1   hadm_id         1468261 non-null  int64  \n",
      " 2   new_icd_code    1468261 non-null  object \n",
      " 3   long_title      1468261 non-null  object \n",
      " 4   label_hf        1468261 non-null  float64\n",
      " 5   label_diabetes  1468261 non-null  float64\n",
      "dtypes: float64(2), int64(2), object(2)\n",
      "memory usage: 78.4+ MB\n"
     ]
    }
   ],
   "source": [
    "diag = pd.concat([h_diag, d_diag]).drop_duplicates().sort_values(['subject_id', 'hadm_id']).reset_index(drop=True)\n",
    "diag = diag.merge(cohort[['hadm_id','label_hf','label_diabetes']], on='hadm_id')\n",
    "diag.to_csv(save_dir + 'diag.csv')\n",
    "diag.info()"
   ]
  },
  {
   "cell_type": "code",
   "execution_count": 24,
   "id": "db61e40b",
   "metadata": {},
   "outputs": [
    {
     "name": "stdout",
     "output_type": "stream",
     "text": [
      "<class 'pandas.core.frame.DataFrame'>\n",
      "Int64Index: 21071602 entries, 0 to 21071601\n",
      "Data columns (total 10 columns):\n",
      " #   Column               Dtype  \n",
      "---  ------               -----  \n",
      " 0   subject_id           int64  \n",
      " 1   hadm_id              float64\n",
      " 2   itemid               int64  \n",
      " 3   lab_time_from_admit  object \n",
      " 4   valuenum             float64\n",
      " 5   label                object \n",
      " 6   fluid                object \n",
      " 7   category             object \n",
      " 8   label_hf             float64\n",
      " 9   label_diabetes       float64\n",
      "dtypes: float64(4), int64(2), object(4)\n",
      "memory usage: 1.7+ GB\n"
     ]
    }
   ],
   "source": [
    "labs = pd.concat([h_labs, d_labs]).drop_duplicates().sort_values(['subject_id', 'hadm_id']).reset_index(drop=True)\n",
    "labs = labs.merge(cohort[['hadm_id','label_hf','label_diabetes']], on='hadm_id')\n",
    "labs.to_csv(save_dir + 'labs.csv')\n",
    "labs.info()"
   ]
  },
  {
   "cell_type": "code",
   "execution_count": 25,
   "id": "e1341868",
   "metadata": {},
   "outputs": [
    {
     "name": "stdout",
     "output_type": "stream",
     "text": [
      "<class 'pandas.core.frame.DataFrame'>\n",
      "Int64Index: 60805 entries, 0 to 60804\n",
      "Data columns (total 7 columns):\n",
      " #   Column                Non-Null Count  Dtype  \n",
      "---  ------                --------------  -----  \n",
      " 0   subject_id            60805 non-null  int64  \n",
      " 1   hadm_id               60805 non-null  int64  \n",
      " 2   icd_code              60805 non-null  object \n",
      " 3   proc_time_from_admit  60805 non-null  object \n",
      " 4   long_title            60805 non-null  object \n",
      " 5   label_hf              60805 non-null  float64\n",
      " 6   label_diabetes        60805 non-null  float64\n",
      "dtypes: float64(2), int64(2), object(3)\n",
      "memory usage: 3.7+ MB\n"
     ]
    }
   ],
   "source": [
    "proc = pd.concat([h_proc, d_proc]).drop_duplicates().sort_values(['subject_id', 'hadm_id']).reset_index(drop=True)\n",
    "proc = proc.merge(cohort[['hadm_id','label_hf','label_diabetes']], on='hadm_id')\n",
    "proc.to_csv(save_dir + 'proc.csv')\n",
    "proc.info()"
   ]
  },
  {
   "cell_type": "code",
   "execution_count": 26,
   "id": "1a926de3",
   "metadata": {},
   "outputs": [
    {
     "name": "stdout",
     "output_type": "stream",
     "text": [
      "<class 'pandas.core.frame.DataFrame'>\n",
      "Int64Index: 2835528 entries, 0 to 2835527\n",
      "Data columns (total 8 columns):\n",
      " #   Column                  Dtype  \n",
      "---  ------                  -----  \n",
      " 0   subject_id              int64  \n",
      " 1   hadm_id                 int64  \n",
      " 2   drug_name               object \n",
      " 3   start_hours_from_admit  object \n",
      " 4   stop_hours_from_admit   object \n",
      " 5   dose_val_rx             object \n",
      " 6   label_hf                float64\n",
      " 7   label_diabetes          float64\n",
      "dtypes: float64(2), int64(2), object(4)\n",
      "memory usage: 194.7+ MB\n"
     ]
    }
   ],
   "source": [
    "meds = pd.concat([h_meds, d_meds]).drop_duplicates().sort_values(['subject_id', 'hadm_id']).reset_index(drop=True)\n",
    "meds = meds.merge(cohort[['hadm_id','label_hf','label_diabetes']], on='hadm_id')\n",
    "meds.to_csv(save_dir + 'meds.csv')\n",
    "meds.info()"
   ]
  },
  {
   "cell_type": "code",
   "execution_count": 27,
   "id": "75a0a123",
   "metadata": {},
   "outputs": [
    {
     "name": "stdout",
     "output_type": "stream",
     "text": [
      "processed/\n",
      "processed/diag.csv\n",
      "processed/proc.csv\n",
      "processed/meds.csv\n",
      "processed/labs.csv\n",
      "processed/cohort.csv\n"
     ]
    }
   ],
   "source": [
    "!tar -zcvf processed.tar.gz processed"
   ]
  }
 ],
 "metadata": {
  "kernelspec": {
   "display_name": "Python 3 (ipykernel)",
   "language": "python",
   "name": "python3"
  },
  "language_info": {
   "codemirror_mode": {
    "name": "ipython",
    "version": 3
   },
   "file_extension": ".py",
   "mimetype": "text/x-python",
   "name": "python",
   "nbconvert_exporter": "python",
   "pygments_lexer": "ipython3",
   "version": "3.9.7"
  }
 },
 "nbformat": 4,
 "nbformat_minor": 5
}
